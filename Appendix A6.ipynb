{
 "cells": [
  {
   "cell_type": "markdown",
   "id": "54390631-aa2c-456b-8e6c-71e08b341dad",
   "metadata": {},
   "source": [
    "# Sliding Window PageRank"
   ]
  },
  {
   "cell_type": "code",
   "execution_count": 1,
   "id": "ebcfce10-ea7b-42fe-9554-1a4543d538c7",
   "metadata": {},
   "outputs": [],
   "source": [
    "import pandas as pd\n",
    "import csv\n",
    "from datetime import datetime, timedelta\n",
    "from datetime import date\n",
    "import matplotlib.pyplot as plt\n",
    "import numpy as np\n",
    "import datetime\n",
    "from colour import Color\n",
    "import networkx as nx\n",
    "import scipy.stats\n",
    "# import time.time\n",
    "import time\n",
    "import pickle\n"
   ]
  },
  {
   "cell_type": "markdown",
   "id": "b2f91479-f6c2-4df5-ab85-ae4f9d050bdb",
   "metadata": {},
   "source": [
    "## Importing Sliding Window"
   ]
  },
  {
   "cell_type": "code",
   "execution_count": 2,
   "id": "60be5685-8269-444d-ac10-7465a484b9ad",
   "metadata": {},
   "outputs": [
    {
     "name": "stderr",
     "output_type": "stream",
     "text": [
      "C:\\Users\\DIEGO UNZUETA\\anaconda3\\lib\\site-packages\\IPython\\core\\interactiveshell.py:3165: DtypeWarning: Columns (0,4) have mixed types.Specify dtype option on import or set low_memory=False.\n",
      "  has_raised = await self.run_ast_nodes(code_ast.body, cell_name,\n"
     ]
    }
   ],
   "source": [
    "df = pd.read_csv(\"data/basicbib.tab\",  sep='\\t') # main dataframe with all the patents\n",
    "df[\"issuedate\"] = pd.to_datetime(df[\"issuedate\"],errors='coerce').dt.date\n",
    "\n",
    "# df_melt_all = pd.read_csv(\"data/df_424_melt_all.csv\")\n",
    "df_2class = pd.read_csv(\"data/df_2class_wPR.csv\")\n",
    "df_2class[\"issuedate\"] = pd.to_datetime(df_2class[\"issuedate\"],errors='coerce').dt.date\n",
    "df_2class = df_2class.sort_values(by = \"patent\")\n",
    "\n",
    "\n",
    "df_melt_2class = pd.read_csv(\"data/df_2class_melt.csv\")\n",
    "df_melt_2class[\"issuedate\"] = pd.to_datetime(df_melt_2class[\"issuedate\"],errors='coerce').dt.date"
   ]
  },
  {
   "cell_type": "code",
   "execution_count": 3,
   "id": "5f0be9eb-5b92-4615-b82a-3972bb485d00",
   "metadata": {},
   "outputs": [
    {
     "name": "stdout",
     "output_type": "stream",
     "text": [
      "1990 (967318,)\n"
     ]
    },
    {
     "name": "stderr",
     "output_type": "stream",
     "text": [
      "C:\\Users\\DIEGO UNZUETA\\anaconda3\\lib\\site-packages\\pandas\\core\\indexing.py:1637: SettingWithCopyWarning: \n",
      "A value is trying to be set on a copy of a slice from a DataFrame\n",
      "\n",
      "See the caveats in the documentation: https://pandas.pydata.org/pandas-docs/stable/user_guide/indexing.html#returning-a-view-versus-a-copy\n",
      "  self._setitem_single_block(indexer, value, name)\n"
     ]
    },
    {
     "name": "stdout",
     "output_type": "stream",
     "text": [
      "1991 (1169037,)\n",
      "1992 (1263107,)\n",
      "1993 (1377969,)\n",
      "1994 (1491042,)\n",
      "1995 (1576295,)\n",
      "1996 (1652120,)\n",
      "1997 (1767072,)\n",
      "1998 (1879251,)\n",
      "1999 (1997377,)\n"
     ]
    }
   ],
   "source": [
    "df_2class[\"sliding_window_12\"] = np.zeros(df_2class.shape[0])\n",
    "\n",
    "for year in range(1990, 2000):\n",
    "\n",
    "    \n",
    "    with open('PageRankpickles/SW_years_12/{}.pkl'.format(year), 'rb') as handle:\n",
    "        pr = pickle.load(handle)\n",
    "    \n",
    "    mean = np.asarray(list(pr.values())).mean()\n",
    "    print(year, np.asarray(list(pr.keys())).shape)\n",
    "    \n",
    "    year_index = (df_2class[\"issuedate\"] >= date(year, 1,1)) \\\n",
    "                            & (df_2class[\"issuedate\"] < date(year + 1,1,1))\n",
    "    \n",
    "    df_year = df_2class.loc[year_index]\n",
    "              \n",
    "    df_2class[\"sliding_window_12\"].loc[year_index] = [pr[i] for i in df_year[\"patent\"].values]/mean\n"
   ]
  },
  {
   "cell_type": "markdown",
   "id": "e6f425f0-0069-432c-b435-4506ec944dad",
   "metadata": {},
   "source": [
    "## Sliding Window Analysis"
   ]
  },
  {
   "cell_type": "code",
   "execution_count": 54,
   "id": "3e0d535a-0f6f-46b5-beb2-2c4f3fce587b",
   "metadata": {},
   "outputs": [
    {
     "data": {
      "image/png": "[encoded data removed]",
      "text/plain": [
       "<Figure size 432x288 with 1 Axes>"
      ]
     },
     "metadata": {
      "needs_background": "light"
     },
     "output_type": "display_data"
    }
   ],
   "source": [
    "plt.hist(df_2class[\"sliding_window_12\"], 200)\n",
    "plt.xscale(\"log\")\n",
    "plt.xlabel(\"Sliding Window Page-Rank\")\n",
    "plt.ylabel(\"Number of patents\")\n",
    "plt.show()"
   ]
  },
  {
   "cell_type": "code",
   "execution_count": 3,
   "id": "ce5c2725-fca7-4913-8d65-643d5b0034b6",
   "metadata": {},
   "outputs": [
    {
     "data": {
      "text/plain": [
       "Text(0, 0.5, 'Number of patents')"
      ]
     },
     "execution_count": 3,
     "metadata": {},
     "output_type": "execute_result"
    },
    {
     "data": {
      "image/png": "[encoded data removed]",
      "text/plain": [
       "<Figure size 432x288 with 1 Axes>"
      ]
     },
     "metadata": {
      "needs_background": "light"
     },
     "output_type": "display_data"
    }
   ],
   "source": [
    "plt.hist(df_2class[\"FC10\"], 200)\n",
    "plt.xscale(\"log\")\n",
    "# plt.show()\n",
    "plt.xlabel(\"FC10\")\n",
    "plt.ylabel(\"Number of patents\")"
   ]
  },
  {
   "cell_type": "code",
   "execution_count": 16,
   "id": "faaefe02-9c75-4a56-a2b2-780d4b541273",
   "metadata": {},
   "outputs": [
    {
     "name": "stdout",
     "output_type": "stream",
     "text": [
      "(10,) (10,)\n"
     ]
    },
    {
     "data": {
      "text/plain": [
       "Text(0, 0.5, 'Sliding Window')"
      ]
     },
     "execution_count": 16,
     "metadata": {},
     "output_type": "execute_result"
    },
    {
     "data": {
      "image/png": "[encoded data removed]",
      "text/plain": [
       "<Figure size 432x288 with 1 Axes>"
      ]
     },
     "metadata": {
      "needs_background": "light"
     },
     "output_type": "display_data"
    }
   ],
   "source": [
    "bin_nums = 10\n",
    "\n",
    "# plt.scatter(df_2class[\"pagerank_order6\"], df_2class[\"sliding_window\"])\n",
    "bins=np.logspace(np.log10(min(df_2class[\"pagerank_order6\"])), np.log10(max(df_2class[\"pagerank_order6\"])), bin_nums)\n",
    "\n",
    "index = np.digitize(df_2class[\"pagerank_order6\"], bins= bins)\n",
    "\n",
    "group = df_2class[\"sliding_window\"].groupby(index)\n",
    "\n",
    "print(bins.shape, group.mean().shape)\n",
    "\n",
    "plt.errorbar(bins, group.mean(), yerr =  group.std(), fmt = \"o\", c = \"C1\")\n",
    "\n",
    "plt.plot(bins, group.mean(), c = \"C1\")\n",
    "plt.xlabel(\"PageRank Order 6\")\n",
    "plt.ylabel(\"Sliding Window\")\n",
    "# plt.xscale(\"log\")"
   ]
  },
  {
   "cell_type": "code",
   "execution_count": 14,
   "id": "63138bdb-8c00-41e3-bb6f-fa6590195108",
   "metadata": {},
   "outputs": [
    {
     "name": "stdout",
     "output_type": "stream",
     "text": [
      "(10,) (11,)\n"
     ]
    },
    {
     "data": {
      "text/plain": [
       "Text(0, 0.5, 'Sliding Window')"
      ]
     },
     "execution_count": 14,
     "metadata": {},
     "output_type": "execute_result"
    },
    {
     "data": {
      "image/png": "[encoded data removed]",
      "text/plain": [
       "<Figure size 432x288 with 1 Axes>"
      ]
     },
     "metadata": {
      "needs_background": "light"
     },
     "output_type": "display_data"
    }
   ],
   "source": [
    "bin_nums = 10\n",
    "\n",
    "# plt.scatter(df_2class[\"pagerank_order6\"], df_2class[\"sliding_window\"])\n",
    "bins=np.logspace(0, np.log10(max(df_2class[\"inlinks_all\"])), bin_nums)\n",
    "\n",
    "\n",
    "\n",
    "index = np.digitize(df_2class[\"inlinks_all\"], bins= bins)\n",
    "\n",
    "group = df_2class[\"sliding_window\"].groupby(index)\n",
    "\n",
    "print(bins.shape, group.mean().shape)\n",
    "\n",
    "plt.errorbar(bins, group.mean()[:-1], yerr =  group.std()[:-1], fmt = \"o\", c = \"C1\")\n",
    "\n",
    "plt.plot(bins, group.mean()[:-1], c = \"C1\")\n",
    "plt.xlabel(\"Inlinks_all\")\n",
    "plt.ylabel(\"Sliding Window\")\n",
    "\n",
    "# plt.xscale(\"log\")"
   ]
  },
  {
   "cell_type": "markdown",
   "id": "e19c086d-e42b-4757-886e-d2d187e7fd36",
   "metadata": {},
   "source": [
    "## Code on Iridis"
   ]
  },
  {
   "cell_type": "code",
   "execution_count": 57,
   "id": "7d848103-c4ad-40ef-ac8c-1d80c6682f51",
   "metadata": {
    "tags": []
   },
   "outputs": [],
   "source": [
    "\n",
    "from warnings import warn\n",
    "import networkx as nx\n",
    "\n",
    "__all__ = [\"pagerank\", \"pagerank_numpy\", \"pagerank_scipy\", \"google_matrix\"]\n",
    "\n",
    "\n",
    "\n",
    "def pagerank(\n",
    "    G,\n",
    "    alpha=0.85,\n",
    "    personalization=None,\n",
    "    max_iter=100,\n",
    "    tol=1.0e-6,\n",
    "    nstart=None,\n",
    "    weight=\"weight\",\n",
    "    dangling=None,\n",
    "            ):\n",
    "    \n",
    "    import numpy as np\n",
    "    import scipy as sp\n",
    "    import scipy.sparse  # call as sp.sparse\n",
    "\n",
    "    N = len(G)\n",
    "    if N == 0:\n",
    "        return {}\n",
    "\n",
    "    nodelist = list(G)\n",
    "    M = nx.to_scipy_sparse_matrix(G, nodelist=nodelist, weight=weight, dtype=float)\n",
    "    \n",
    "    S = np.array(M.sum(axis=1)).flatten()\n",
    "    S[S != 0] = 1.0 / S[S != 0]\n",
    "    Q = sp.sparse.spdiags(S.T, 0, *M.shape, format=\"csr\")\n",
    "    M = Q * M\n",
    "\n",
    "    # initial vector\n",
    "    if nstart is None:\n",
    "        x = np.repeat(1.0 / N, N)\n",
    "    else:\n",
    "        x = np.array([nstart.get(n, 0) for n in nodelist], dtype=float)\n",
    "        x = x / x.sum()\n",
    "\n",
    "    # Personalization vector\n",
    "    if personalization is None:\n",
    "        p = np.repeat(1.0 / N, N)\n",
    "    else:\n",
    "        p = np.array([personalization.get(n, 0) for n in nodelist], dtype=float)\n",
    "        if p.sum() == 0:\n",
    "            raise ZeroDivisionError\n",
    "        p = p / p.sum()\n",
    "    # Dangling nodes\n",
    "    if dangling is None:\n",
    "        dangling_weights = p\n",
    "    else:\n",
    "        # Convert the dangling dictionary into an array in nodelist order\n",
    "        dangling_weights = np.array([dangling.get(n, 0) for n in nodelist], dtype=float)\n",
    "        dangling_weights /= dangling_weights.sum()\n",
    "    is_dangling = np.where(S == 0)[0]\n",
    "\n",
    "    # power iteration: make up to max_iter iterations\n",
    "    for _ in range(max_iter):\n",
    "        xlast = x\n",
    "        x = alpha * (x * M + sum(x[is_dangling]) * dangling_weights) + (1 - alpha) * p #why times by small value\n",
    "        \n",
    "        # check convergence, l1 norm\n",
    "        err = np.absolute(x - xlast).sum()\n",
    "        if err < N * tol:\n",
    "            return dict(zip(nodelist, map(float, x)))\n",
    "    raise nx.PowerIterationFailedConvergence(max_iter)\n"
   ]
  },
  {
   "cell_type": "code",
   "execution_count": 58,
   "id": "2ca51279-62c1-4025-888b-bd7ccd80110b",
   "metadata": {},
   "outputs": [],
   "source": [
    "pr2 = pagerank(G)"
   ]
  },
  {
   "cell_type": "code",
   "execution_count": 1,
   "id": "5bdf1915-aea8-42f3-a1c6-dac4ac025ec8",
   "metadata": {},
   "outputs": [],
   "source": [
    "# -*- coding: utf-8 -*-\n",
    "\"\"\"\n",
    "Created on Wed Jul 14 18:15:59 2021\n",
    "\n",
    "@author: DIEGO UNZUETA\n",
    "\"\"\"\n",
    "\n",
    "print(\"Running Imports\")\n",
    "\n",
    "import pandas as pd\n",
    "import csv\n",
    "from datetime import datetime, timedelta\n",
    "from datetime import date\n",
    "import matplotlib.pyplot as plt\n",
    "import numpy as np\n",
    "import datetime\n",
    "import networkx as nx\n",
    "import pickle #credits to stack overflow user= blender\n",
    "import matplotlib\n",
    "import time\n",
    "\n",
    "matplotlib.use('Agg') \n",
    "\n",
    "print(\"Finished Imports\")\n",
    "\n",
    "df = pd.read_csv(\"data/basicbib.tab\",  sep='\\t') # main dataframe with all the patents\n",
    "df[\"issuedate\"] = pd.to_datetime(df[\"issuedate\"],errors='coerce').dt.date\n",
    "\n",
    "df_links = pd.read_csv(\"data/uscites.tab\",  sep='\\t')\n",
    "df_melt_all = pd.read_csv(\"data/df_424_melt_all.csv\")\n",
    "df_melt_2class = pd.read_csv(\"data/df_2class_melt.csv\")\n",
    "df_melt_2class[\"issuedate\"] = pd.to_datetime(df_melt_2class[\"issuedate\"],errors='coerce').dt.date\n",
    "\n",
    "print(\"Imported Links\")\n",
    "\n",
    "def get_higher_order(melt):\n",
    "    return(df_melt_all.loc[(df_melt_all[\"patent\"].isin(melt[\"patent\"].values)) \\\n",
    "              | (df_melt_all[\"patent\"].isin(melt[\"cited\"].values))])\n",
    "              \n",
    "\n",
    "def get_yearPR():\n",
    "    for year in range(1990, 2000):\n",
    "        print(year)\n",
    "        \n",
    "        s = time.time()\n",
    "\n",
    "        full_2class = df.loc[((df[\"class\"].values == \"424\") \\\n",
    "                       |    (df[\"class\"].values == 424)   \\\n",
    "                       |    (df[\"class\"].values == \"514\") \\\n",
    "                       |    (df[\"class\"].values == 514)    )  \\\n",
    "                       &    (df[\"issuedate\"] > date(year-15, 1,1) )\\\n",
    "                       &    (df[\"issuedate\"] < date(year+10,1,1))]\n",
    "\n",
    "\n",
    "        melt = full_2class.merge(df_links, left_on = \"patent\", right_on = \"patent\", how = \"left\") # combine the adjacency list with the dataframe \n",
    "\n",
    "        def get_higher_order(melt):\n",
    "            return(df_melt_all.loc[(df_melt_all[\"patent\"].isin(melt[\"patent\"].values)) \\\n",
    "                  | (df_melt_all[\"patent\"].isin(melt[\"cited\"].values))])\n",
    "\n",
    "        order2 = get_higher_order(melt)\n",
    "        order3 = get_higher_order(order2)\n",
    "        order4 = get_higher_order(order3)\n",
    "        order5 = get_higher_order(order4)\n",
    "        order6 = get_higher_order(order5)\n",
    "\n",
    "        \n",
    "        print(\"ORDER 6: \", order6.shape)\n",
    "        \n",
    "        G = nx.from_pandas_edgelist(df_melt_2class , source = \"patent\", target = \"cited\")\n",
    "        pr = nx.pagerank(G, alpha = 0.85)\n",
    "        e = time.time()\n",
    "\n",
    "        print(\"Evaluated PageRank\")\n",
    "\n",
    "        with open('pageRankPickles/SW_years/{}.pkl'.format(year), 'wb') as handle:\n",
    "            pickle.dump(pr, handle, protocol=pickle.HIGHEST_PROTOCOL)\n",
    "\n",
    "\n",
    "get_yearPR()\n",
    "            \n",
    "            \n",
    "            \n",
    "\n"
   ]
  }
 ],
 "metadata": {
  "kernelspec": {
   "display_name": "Python 3",
   "language": "python",
   "name": "python3"
  },
  "language_info": {
   "codemirror_mode": {
    "name": "ipython",
    "version": 3
   },
   "file_extension": ".py",
   "mimetype": "text/x-python",
   "name": "python",
   "nbconvert_exporter": "python",
   "pygments_lexer": "ipython3",
   "version": "3.8.8"
  }
 },
 "nbformat": 4,
 "nbformat_minor": 5
}
