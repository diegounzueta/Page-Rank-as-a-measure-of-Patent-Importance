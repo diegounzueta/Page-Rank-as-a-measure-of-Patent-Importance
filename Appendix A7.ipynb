{
 "cells": [
  {
   "cell_type": "markdown",
   "id": "a2dd6dc6-9824-4a92-b161-cafa8872e786",
   "metadata": {},
   "source": [
    "# Initial Modeling "
   ]
  },
  {
   "cell_type": "code",
   "execution_count": 65,
   "id": "afd9f4ad-98ca-4740-83ac-f8db149a060a",
   "metadata": {},
   "outputs": [],
   "source": [
    "import pandas as pd\n",
    "import csv\n",
    "from datetime import datetime, timedelta\n",
    "from datetime import date\n",
    "import matplotlib.pyplot as plt\n",
    "import numpy as np\n",
    "import datetime\n",
    "import seaborn as sns\n",
    "import math\n",
    "from sklearn.model_selection import train_test_split\n",
    "from sklearn.ensemble import RandomForestClassifier\n",
    "from sklearn.ensemble import RandomForestRegressor\n",
    "from sklearn.datasets import make_classification\n",
    "import torch\n",
    "from sklearn.metrics import accuracy_score\n",
    "from sklearn.metrics import mean_squared_error\n",
    "from sklearn.metrics import classification_report, confusion_matrix, plot_confusion_matrix\n",
    "try: \n",
    "    import torchbearer\n",
    "except:\n",
    "    !pip install torchbearer"
   ]
  },
  {
   "cell_type": "markdown",
   "id": "177b93c7-fbbb-44cb-b5d0-c3e41d83d87f",
   "metadata": {},
   "source": [
    "## Import data"
   ]
  },
  {
   "cell_type": "code",
   "execution_count": 67,
   "id": "b99ddee5-9670-479b-b2c1-3e4487880435",
   "metadata": {},
   "outputs": [],
   "source": [
    "df_2class = pd.read_csv(\"data/df_2class_wNF.csv\") #data of only class 424 from 2000 to 2010"
   ]
  },
  {
   "cell_type": "code",
   "execution_count": 69,
   "id": "8f4611d9-0388-49bb-b348-ef72d6626a11",
   "metadata": {},
   "outputs": [],
   "source": [
    "df_2class[\"issuedate\"] = pd.to_datetime(df_2class[\"issuedate\"])"
   ]
  },
  {
   "cell_type": "code",
   "execution_count": 70,
   "id": "151c521d-15a8-4369-85b5-63dd4ab6a942",
   "metadata": {},
   "outputs": [],
   "source": [
    "l = [\"year\", \"class_424\",\"herfindahl_cited_class\", \"herfindahl_cited_424subclass\", \"n_nplcites\", \"median_age_cited\", \"n_claims\",\\\n",
    "    \"count_by_assignee_all\", \"count_by_assignee_class\", \"counts_by_assignee_other\",\\\n",
    "     \"inl_by_assignee_all\", \"inl_by_assignee_424\", \"inl_by_assignee_other\", \\\n",
    "     \n",
    "     'st_country_class_0', 'st_country_class_1', 'st_country_class_2',\n",
    "     'subclass_class_0', 'subclass_class_1', 'subclass_class_2', 'subclass_class_3', \\\n",
    "     \"outl_by_assignee_all\", \"outl_by_assignee_424\", \"outl_by_assignee_other\",\\\n",
    "     \"inl_by_cited_all\", \"oul_by_cited_all\"]"
   ]
  },
  {
   "cell_type": "markdown",
   "id": "4264f0c5-b981-490f-9549-871a7ff43584",
   "metadata": {},
   "source": [
    "## Missing data"
   ]
  },
  {
   "cell_type": "code",
   "execution_count": 72,
   "id": "6eaa552a-e95b-489b-b0c1-3774531f498d",
   "metadata": {},
   "outputs": [
    {
     "data": {
      "text/plain": [
       "patent                             0\n",
       "st_country                         0\n",
       "assignee                           0\n",
       "class                              0\n",
       "subclass                           0\n",
       "issuedate                          0\n",
       "nonutility                         0\n",
       "appnum                             0\n",
       "application_date                   0\n",
       "n_claims                           0\n",
       "claims_info_missing                0\n",
       "n_bcites                           0\n",
       "n_fcites                           0\n",
       "n_nplcites                         0\n",
       "inlinks_all                        0\n",
       "inlinks_class                      0\n",
       "FC3                                0\n",
       "FC5                                0\n",
       "FC10                               0\n",
       "non_patent_refs                    0\n",
       "median_age_cited                   0\n",
       "count_by_assignee_all              0\n",
       "count_by_assignee_class            0\n",
       "inl_by_assignee_all                0\n",
       "inl_by_assignee_424                0\n",
       "median_date_cited               2122\n",
       "inl_by_assignee_other              0\n",
       "FC5_cat                            0\n",
       "FC10_cat                           0\n",
       "FC3_cat                            0\n",
       "asstype_1                          0\n",
       "asstype_2                          0\n",
       "asstype_3                          0\n",
       "asstype_4                          0\n",
       "asstype_5                          0\n",
       "asstype_6                          0\n",
       "asstype_7                          0\n",
       "FC3_cat_quartiles                  0\n",
       "FC5_cat_quartiles                  0\n",
       "FC10_cat_quartiles                 0\n",
       "herfindahl_cited_class             0\n",
       "herfindahl_cited_424subclass       0\n",
       "pagerank                           0\n",
       "dtype: int64"
      ]
     },
     "execution_count": 72,
     "metadata": {},
     "output_type": "execute_result"
    }
   ],
   "source": [
    "df_424.isna().sum()"
   ]
  },
  {
   "cell_type": "code",
   "execution_count": 74,
   "id": "9b91516a-8b93-4df2-962d-fc130cbb696e",
   "metadata": {},
   "outputs": [
    {
     "name": "stderr",
     "output_type": "stream",
     "text": [
      "<ipython-input-74-57f5cc9daa8e>:1: FutureWarning: DataFrame.mean and DataFrame.median with numeric_only=None will include datetime64 and datetime64tz columns in a future version.\n",
      "  df_424 = df_424.fillna(df_424.mean())\n",
      "<ipython-input-74-57f5cc9daa8e>:2: FutureWarning: DataFrame.mean and DataFrame.median with numeric_only=None will include datetime64 and datetime64tz columns in a future version.\n",
      "  df_2class = df_2class.fillna(df_2class.mean())\n"
     ]
    }
   ],
   "source": [
    "df_2class = df_2class.fillna(df_2class.mean())"
   ]
  },
  {
   "cell_type": "markdown",
   "id": "83cde19d-4fdf-4223-b6bd-fc068d547c77",
   "metadata": {},
   "source": [
    "## Separate target and training data"
   ]
  },
  {
   "cell_type": "code",
   "execution_count": 75,
   "id": "15c33c0c-c428-4d10-9ff7-e056deaa64ca",
   "metadata": {},
   "outputs": [
    {
     "data": {
      "text/plain": [
       "Index(['patent', 'st_country', 'assignee', 'subclass', 'issuedate',\n",
       "       'nonutility', 'appnum', 'application_date', 'n_claims',\n",
       "       'claims_info_missing', 'n_bcites', 'n_fcites', 'n_nplcites',\n",
       "       'inlinks_all', 'inlinks_class', 'FC3', 'FC5', 'FC10', 'FC3_cat',\n",
       "       'FC5_cat', 'FC10_cat', 'herfindahl_cited_class',\n",
       "       'herfindahl_cited_424subclass', 'median_age_cited', 'median_date_cited',\n",
       "       'asstype_1', 'asstype_2', 'asstype_3', 'asstype_4', 'asstype_5',\n",
       "       'asstype_6', 'asstype_7', 'count_by_assignee_all',\n",
       "       'count_by_assignee_class', 'inl_by_assignee_all', 'inl_by_assignee_424',\n",
       "       'inl_by_assignee_other', 'FC3_cat_quartiles', 'FC5_cat_quartiles',\n",
       "       'FC10_cat_quartiles', 'pagerank_order1', 'pagerank_order5',\n",
       "       'pagerank_order2', 'pagerank_order3', 'pagerank_order4',\n",
       "       'pagerank_order6', 'pagerank_order0', 'pagerank_order8',\n",
       "       'pagerank_order7', 'sliding_window', 'pagerank_order9',\n",
       "       'pagerank_order11', 'pagerank_order12', 'pagerank_order10',\n",
       "       'counts_by_assignee_other', 'sliding_window_12', 'class_424',\n",
       "       'class_514', 'outl_by_assignee_all', 'inl_by_cited_all',\n",
       "       'oul_by_cited_all', 'outl_by_assignee_424', 'outl_by_assignee_other',\n",
       "       'st_country_class_0', 'st_country_class_1', 'st_country_class_2',\n",
       "       'subclass_class_0', 'subclass_class_1', 'subclass_class_2',\n",
       "       'subclass_class_3'],\n",
       "      dtype='object')"
      ]
     },
     "execution_count": 75,
     "metadata": {},
     "output_type": "execute_result"
    }
   ],
   "source": [
    "df_2class.columns"
   ]
  },
  {
   "cell_type": "code",
   "execution_count": 76,
   "id": "db5fecf8-1357-4138-a736-b70875f6a243",
   "metadata": {},
   "outputs": [],
   "source": [
    "df_2class[\"year\"] = df_2class[\"issuedate\"].dt.year"
   ]
  },
  {
   "cell_type": "code",
   "execution_count": 78,
   "id": "980a3aaa-c27a-43a3-b53c-96afc665c173",
   "metadata": {},
   "outputs": [
    {
     "data": {
      "text/plain": [
       "(46264, 71)"
      ]
     },
     "execution_count": 78,
     "metadata": {},
     "output_type": "execute_result"
    }
   ],
   "source": [
    "df_2class.shape"
   ]
  },
  {
   "cell_type": "code",
   "execution_count": 87,
   "id": "90bc9446-a0f8-4946-8c8b-ad04cf6349c5",
   "metadata": {},
   "outputs": [],
   "source": [
    "target_cols= [\"sliding_window_12\", \"sliding_window\",'pagerank_order0', 'pagerank_order1',\\\n",
    "       'pagerank_order2', 'pagerank_order3', 'pagerank_order4',\\\n",
    "       'pagerank_order5', 'pagerank_order6', 'pagerank_order7',\\\n",
    "       'pagerank_order8','inlinks_all', 'inlinks_class',  'FC3', 'FC5', 'FC10', \\\n",
    "                                              \"FC3_cat\", \"FC5_cat\", \"FC10_cat\", \\\n",
    "                                              \"FC3_cat_quartiles\", \"FC5_cat_quartiles\", \"FC10_cat_quartiles\"]\n",
    "\n",
    "\n",
    "df_targets_2class = df_2class[target_cols].copy()\n",
    "df_inputs_2class = df_2class.drop(target_cols, axis=1)\n",
    "df_inputs_2class = df_2class[l]\n"
   ]
  },
  {
   "cell_type": "code",
   "execution_count": 88,
   "id": "2fcae96b-77ba-4d1b-a691-750210ffbeb0",
   "metadata": {},
   "outputs": [
    {
     "data": {
      "text/html": [
       "<div>\n",
       "<style scoped>\n",
       "    .dataframe tbody tr th:only-of-type {\n",
       "        vertical-align: middle;\n",
       "    }\n",
       "\n",
       "    .dataframe tbody tr th {\n",
       "        vertical-align: top;\n",
       "    }\n",
       "\n",
       "    .dataframe thead th {\n",
       "        text-align: right;\n",
       "    }\n",
       "</style>\n",
       "<table border=\"1\" class=\"dataframe\">\n",
       "  <thead>\n",
       "    <tr style=\"text-align: right;\">\n",
       "      <th></th>\n",
       "      <th>year</th>\n",
       "      <th>class_424</th>\n",
       "      <th>herfindahl_cited_class</th>\n",
       "      <th>herfindahl_cited_424subclass</th>\n",
       "      <th>n_nplcites</th>\n",
       "      <th>median_age_cited</th>\n",
       "      <th>n_claims</th>\n",
       "      <th>count_by_assignee_all</th>\n",
       "      <th>count_by_assignee_class</th>\n",
       "      <th>counts_by_assignee_other</th>\n",
       "      <th>...</th>\n",
       "      <th>st_country_class_2</th>\n",
       "      <th>subclass_class_0</th>\n",
       "      <th>subclass_class_1</th>\n",
       "      <th>subclass_class_2</th>\n",
       "      <th>subclass_class_3</th>\n",
       "      <th>outl_by_assignee_all</th>\n",
       "      <th>outl_by_assignee_424</th>\n",
       "      <th>outl_by_assignee_other</th>\n",
       "      <th>inl_by_cited_all</th>\n",
       "      <th>oul_by_cited_all</th>\n",
       "    </tr>\n",
       "  </thead>\n",
       "  <tbody>\n",
       "    <tr>\n",
       "      <th>0</th>\n",
       "      <td>1990</td>\n",
       "      <td>1</td>\n",
       "      <td>0.265306</td>\n",
       "      <td>0.722222</td>\n",
       "      <td>8</td>\n",
       "      <td>2709.000000</td>\n",
       "      <td>46.0</td>\n",
       "      <td>14.000000</td>\n",
       "      <td>0.000000</td>\n",
       "      <td>14.000000</td>\n",
       "      <td>...</td>\n",
       "      <td>0</td>\n",
       "      <td>0</td>\n",
       "      <td>0</td>\n",
       "      <td>0</td>\n",
       "      <td>1</td>\n",
       "      <td>8.357143</td>\n",
       "      <td>10.444444</td>\n",
       "      <td>18.400000</td>\n",
       "      <td>74.214286</td>\n",
       "      <td>5.428571</td>\n",
       "    </tr>\n",
       "    <tr>\n",
       "      <th>1</th>\n",
       "      <td>1990</td>\n",
       "      <td>1</td>\n",
       "      <td>1.000000</td>\n",
       "      <td>1.000000</td>\n",
       "      <td>0</td>\n",
       "      <td>1505.000000</td>\n",
       "      <td>1.0</td>\n",
       "      <td>892.040737</td>\n",
       "      <td>173.453177</td>\n",
       "      <td>718.587561</td>\n",
       "      <td>...</td>\n",
       "      <td>0</td>\n",
       "      <td>0</td>\n",
       "      <td>0</td>\n",
       "      <td>0</td>\n",
       "      <td>1</td>\n",
       "      <td>6.107473</td>\n",
       "      <td>5.726049</td>\n",
       "      <td>11.882412</td>\n",
       "      <td>22.000000</td>\n",
       "      <td>0.000000</td>\n",
       "    </tr>\n",
       "    <tr>\n",
       "      <th>2</th>\n",
       "      <td>1990</td>\n",
       "      <td>1</td>\n",
       "      <td>0.781250</td>\n",
       "      <td>0.142857</td>\n",
       "      <td>0</td>\n",
       "      <td>896.000000</td>\n",
       "      <td>8.0</td>\n",
       "      <td>892.040737</td>\n",
       "      <td>173.453177</td>\n",
       "      <td>718.587561</td>\n",
       "      <td>...</td>\n",
       "      <td>1</td>\n",
       "      <td>1</td>\n",
       "      <td>0</td>\n",
       "      <td>0</td>\n",
       "      <td>0</td>\n",
       "      <td>6.107473</td>\n",
       "      <td>5.726049</td>\n",
       "      <td>11.882412</td>\n",
       "      <td>82.100000</td>\n",
       "      <td>4.400000</td>\n",
       "    </tr>\n",
       "    <tr>\n",
       "      <th>3</th>\n",
       "      <td>1990</td>\n",
       "      <td>1</td>\n",
       "      <td>1.000000</td>\n",
       "      <td>0.555556</td>\n",
       "      <td>0</td>\n",
       "      <td>1358.000000</td>\n",
       "      <td>20.0</td>\n",
       "      <td>22.000000</td>\n",
       "      <td>0.000000</td>\n",
       "      <td>22.000000</td>\n",
       "      <td>...</td>\n",
       "      <td>0</td>\n",
       "      <td>0</td>\n",
       "      <td>0</td>\n",
       "      <td>0</td>\n",
       "      <td>1</td>\n",
       "      <td>12.545455</td>\n",
       "      <td>22.250000</td>\n",
       "      <td>13.076923</td>\n",
       "      <td>39.000000</td>\n",
       "      <td>5.000000</td>\n",
       "    </tr>\n",
       "    <tr>\n",
       "      <th>4</th>\n",
       "      <td>1990</td>\n",
       "      <td>1</td>\n",
       "      <td>0.000000</td>\n",
       "      <td>0.000000</td>\n",
       "      <td>1</td>\n",
       "      <td>2079.248489</td>\n",
       "      <td>14.0</td>\n",
       "      <td>311.000000</td>\n",
       "      <td>46.000000</td>\n",
       "      <td>265.000000</td>\n",
       "      <td>...</td>\n",
       "      <td>0</td>\n",
       "      <td>1</td>\n",
       "      <td>0</td>\n",
       "      <td>0</td>\n",
       "      <td>0</td>\n",
       "      <td>6.466238</td>\n",
       "      <td>6.796875</td>\n",
       "      <td>8.789474</td>\n",
       "      <td>0.000000</td>\n",
       "      <td>0.000000</td>\n",
       "    </tr>\n",
       "  </tbody>\n",
       "</table>\n",
       "<p>5 rows × 25 columns</p>\n",
       "</div>"
      ],
      "text/plain": [
       "   year  class_424  herfindahl_cited_class  herfindahl_cited_424subclass  \\\n",
       "0  1990          1                0.265306                      0.722222   \n",
       "1  1990          1                1.000000                      1.000000   \n",
       "2  1990          1                0.781250                      0.142857   \n",
       "3  1990          1                1.000000                      0.555556   \n",
       "4  1990          1                0.000000                      0.000000   \n",
       "\n",
       "   n_nplcites  median_age_cited  n_claims  count_by_assignee_all  \\\n",
       "0           8       2709.000000      46.0              14.000000   \n",
       "1           0       1505.000000       1.0             892.040737   \n",
       "2           0        896.000000       8.0             892.040737   \n",
       "3           0       1358.000000      20.0              22.000000   \n",
       "4           1       2079.248489      14.0             311.000000   \n",
       "\n",
       "   count_by_assignee_class  counts_by_assignee_other  ...  st_country_class_2  \\\n",
       "0                 0.000000                 14.000000  ...                   0   \n",
       "1               173.453177                718.587561  ...                   0   \n",
       "2               173.453177                718.587561  ...                   1   \n",
       "3                 0.000000                 22.000000  ...                   0   \n",
       "4                46.000000                265.000000  ...                   0   \n",
       "\n",
       "   subclass_class_0  subclass_class_1  subclass_class_2  subclass_class_3  \\\n",
       "0                 0                 0                 0                 1   \n",
       "1                 0                 0                 0                 1   \n",
       "2                 1                 0                 0                 0   \n",
       "3                 0                 0                 0                 1   \n",
       "4                 1                 0                 0                 0   \n",
       "\n",
       "   outl_by_assignee_all  outl_by_assignee_424  outl_by_assignee_other  \\\n",
       "0              8.357143             10.444444               18.400000   \n",
       "1              6.107473              5.726049               11.882412   \n",
       "2              6.107473              5.726049               11.882412   \n",
       "3             12.545455             22.250000               13.076923   \n",
       "4              6.466238              6.796875                8.789474   \n",
       "\n",
       "   inl_by_cited_all  oul_by_cited_all  \n",
       "0         74.214286          5.428571  \n",
       "1         22.000000          0.000000  \n",
       "2         82.100000          4.400000  \n",
       "3         39.000000          5.000000  \n",
       "4          0.000000          0.000000  \n",
       "\n",
       "[5 rows x 25 columns]"
      ]
     },
     "execution_count": 88,
     "metadata": {},
     "output_type": "execute_result"
    }
   ],
   "source": [
    "df_inputs_2class.head()"
   ]
  },
  {
   "cell_type": "code",
   "execution_count": 89,
   "id": "38734d3c-9ae5-4742-adde-a4412c6c14c3",
   "metadata": {},
   "outputs": [
    {
     "data": {
      "text/html": [
       "<div>\n",
       "<style scoped>\n",
       "    .dataframe tbody tr th:only-of-type {\n",
       "        vertical-align: middle;\n",
       "    }\n",
       "\n",
       "    .dataframe tbody tr th {\n",
       "        vertical-align: top;\n",
       "    }\n",
       "\n",
       "    .dataframe thead th {\n",
       "        text-align: right;\n",
       "    }\n",
       "</style>\n",
       "<table border=\"1\" class=\"dataframe\">\n",
       "  <thead>\n",
       "    <tr style=\"text-align: right;\">\n",
       "      <th></th>\n",
       "      <th>sliding_window_12</th>\n",
       "      <th>sliding_window</th>\n",
       "      <th>pagerank_order0</th>\n",
       "      <th>pagerank_order1</th>\n",
       "      <th>pagerank_order2</th>\n",
       "      <th>pagerank_order3</th>\n",
       "      <th>pagerank_order4</th>\n",
       "      <th>pagerank_order5</th>\n",
       "      <th>pagerank_order6</th>\n",
       "      <th>pagerank_order7</th>\n",
       "      <th>...</th>\n",
       "      <th>inlinks_class</th>\n",
       "      <th>FC3</th>\n",
       "      <th>FC5</th>\n",
       "      <th>FC10</th>\n",
       "      <th>FC3_cat</th>\n",
       "      <th>FC5_cat</th>\n",
       "      <th>FC10_cat</th>\n",
       "      <th>FC3_cat_quartiles</th>\n",
       "      <th>FC5_cat_quartiles</th>\n",
       "      <th>FC10_cat_quartiles</th>\n",
       "    </tr>\n",
       "  </thead>\n",
       "  <tbody>\n",
       "    <tr>\n",
       "      <th>0</th>\n",
       "      <td>2.131543</td>\n",
       "      <td>2.686400</td>\n",
       "      <td>0.000031</td>\n",
       "      <td>1.560529e-05</td>\n",
       "      <td>6.562651e-06</td>\n",
       "      <td>2.930609e-06</td>\n",
       "      <td>1.877523e-06</td>\n",
       "      <td>1.457908e-06</td>\n",
       "      <td>1.286787e-06</td>\n",
       "      <td>1.214756e-06</td>\n",
       "      <td>...</td>\n",
       "      <td>31</td>\n",
       "      <td>1.0</td>\n",
       "      <td>5.0</td>\n",
       "      <td>29.0</td>\n",
       "      <td>0</td>\n",
       "      <td>1</td>\n",
       "      <td>3</td>\n",
       "      <td>3</td>\n",
       "      <td>3</td>\n",
       "      <td>3</td>\n",
       "    </tr>\n",
       "    <tr>\n",
       "      <th>1</th>\n",
       "      <td>0.272532</td>\n",
       "      <td>0.302383</td>\n",
       "      <td>0.000002</td>\n",
       "      <td>8.748619e-07</td>\n",
       "      <td>7.656084e-07</td>\n",
       "      <td>3.746407e-07</td>\n",
       "      <td>1.898667e-07</td>\n",
       "      <td>1.474326e-07</td>\n",
       "      <td>1.301599e-07</td>\n",
       "      <td>1.228738e-07</td>\n",
       "      <td>...</td>\n",
       "      <td>0</td>\n",
       "      <td>1.0</td>\n",
       "      <td>3.0</td>\n",
       "      <td>4.0</td>\n",
       "      <td>0</td>\n",
       "      <td>1</td>\n",
       "      <td>1</td>\n",
       "      <td>3</td>\n",
       "      <td>3</td>\n",
       "      <td>2</td>\n",
       "    </tr>\n",
       "    <tr>\n",
       "      <th>2</th>\n",
       "      <td>1.403111</td>\n",
       "      <td>1.501660</td>\n",
       "      <td>0.000007</td>\n",
       "      <td>7.912829e-06</td>\n",
       "      <td>3.653845e-06</td>\n",
       "      <td>1.917832e-06</td>\n",
       "      <td>1.151846e-06</td>\n",
       "      <td>8.944155e-07</td>\n",
       "      <td>7.896287e-07</td>\n",
       "      <td>7.454269e-07</td>\n",
       "      <td>...</td>\n",
       "      <td>5</td>\n",
       "      <td>1.0</td>\n",
       "      <td>1.0</td>\n",
       "      <td>4.0</td>\n",
       "      <td>0</td>\n",
       "      <td>0</td>\n",
       "      <td>1</td>\n",
       "      <td>3</td>\n",
       "      <td>2</td>\n",
       "      <td>2</td>\n",
       "    </tr>\n",
       "    <tr>\n",
       "      <th>3</th>\n",
       "      <td>1.286013</td>\n",
       "      <td>1.529110</td>\n",
       "      <td>0.000023</td>\n",
       "      <td>1.206492e-05</td>\n",
       "      <td>4.570037e-06</td>\n",
       "      <td>1.977614e-06</td>\n",
       "      <td>1.023470e-06</td>\n",
       "      <td>7.943902e-07</td>\n",
       "      <td>7.013220e-07</td>\n",
       "      <td>6.620634e-07</td>\n",
       "      <td>...</td>\n",
       "      <td>35</td>\n",
       "      <td>8.0</td>\n",
       "      <td>15.0</td>\n",
       "      <td>25.0</td>\n",
       "      <td>1</td>\n",
       "      <td>2</td>\n",
       "      <td>3</td>\n",
       "      <td>3</td>\n",
       "      <td>3</td>\n",
       "      <td>3</td>\n",
       "    </tr>\n",
       "    <tr>\n",
       "      <th>4</th>\n",
       "      <td>1.000000</td>\n",
       "      <td>1.000000</td>\n",
       "      <td>0.000002</td>\n",
       "      <td>4.181004e-06</td>\n",
       "      <td>2.147803e-06</td>\n",
       "      <td>1.184639e-06</td>\n",
       "      <td>7.652058e-07</td>\n",
       "      <td>5.941870e-07</td>\n",
       "      <td>5.245739e-07</td>\n",
       "      <td>4.952093e-07</td>\n",
       "      <td>...</td>\n",
       "      <td>0</td>\n",
       "      <td>0.0</td>\n",
       "      <td>0.0</td>\n",
       "      <td>1.0</td>\n",
       "      <td>0</td>\n",
       "      <td>0</td>\n",
       "      <td>0</td>\n",
       "      <td>2</td>\n",
       "      <td>1</td>\n",
       "      <td>1</td>\n",
       "    </tr>\n",
       "  </tbody>\n",
       "</table>\n",
       "<p>5 rows × 22 columns</p>\n",
       "</div>"
      ],
      "text/plain": [
       "   sliding_window_12  sliding_window  pagerank_order0  pagerank_order1  \\\n",
       "0           2.131543        2.686400         0.000031     1.560529e-05   \n",
       "1           0.272532        0.302383         0.000002     8.748619e-07   \n",
       "2           1.403111        1.501660         0.000007     7.912829e-06   \n",
       "3           1.286013        1.529110         0.000023     1.206492e-05   \n",
       "4           1.000000        1.000000         0.000002     4.181004e-06   \n",
       "\n",
       "   pagerank_order2  pagerank_order3  pagerank_order4  pagerank_order5  \\\n",
       "0     6.562651e-06     2.930609e-06     1.877523e-06     1.457908e-06   \n",
       "1     7.656084e-07     3.746407e-07     1.898667e-07     1.474326e-07   \n",
       "2     3.653845e-06     1.917832e-06     1.151846e-06     8.944155e-07   \n",
       "3     4.570037e-06     1.977614e-06     1.023470e-06     7.943902e-07   \n",
       "4     2.147803e-06     1.184639e-06     7.652058e-07     5.941870e-07   \n",
       "\n",
       "   pagerank_order6  pagerank_order7  ...  inlinks_class  FC3   FC5  FC10  \\\n",
       "0     1.286787e-06     1.214756e-06  ...             31  1.0   5.0  29.0   \n",
       "1     1.301599e-07     1.228738e-07  ...              0  1.0   3.0   4.0   \n",
       "2     7.896287e-07     7.454269e-07  ...              5  1.0   1.0   4.0   \n",
       "3     7.013220e-07     6.620634e-07  ...             35  8.0  15.0  25.0   \n",
       "4     5.245739e-07     4.952093e-07  ...              0  0.0   0.0   1.0   \n",
       "\n",
       "   FC3_cat  FC5_cat  FC10_cat  FC3_cat_quartiles  FC5_cat_quartiles  \\\n",
       "0        0        1         3                  3                  3   \n",
       "1        0        1         1                  3                  3   \n",
       "2        0        0         1                  3                  2   \n",
       "3        1        2         3                  3                  3   \n",
       "4        0        0         0                  2                  1   \n",
       "\n",
       "   FC10_cat_quartiles  \n",
       "0                   3  \n",
       "1                   2  \n",
       "2                   2  \n",
       "3                   3  \n",
       "4                   1  \n",
       "\n",
       "[5 rows x 22 columns]"
      ]
     },
     "execution_count": 89,
     "metadata": {},
     "output_type": "execute_result"
    }
   ],
   "source": [
    "df_targets_2class.head()"
   ]
  },
  {
   "cell_type": "code",
   "execution_count": null,
   "id": "cc6cb1f6-86b1-4ce8-a234-6070106426f3",
   "metadata": {},
   "outputs": [],
   "source": []
  },
  {
   "cell_type": "markdown",
   "id": "a327a24a-8013-4242-856c-4d9d14272586",
   "metadata": {},
   "source": [
    "## Preparing data"
   ]
  },
  {
   "cell_type": "code",
   "execution_count": 41,
   "id": "feb1ea22-3a80-4a89-b244-5f3ef5f3ec43",
   "metadata": {},
   "outputs": [],
   "source": [
    "y = df_targets_2class[\"FC3_cat_quartiles\"].values\n",
    "X = df_inputs_2class.values / df_inputs_2class.values.max(axis=0)\n"
   ]
  },
  {
   "cell_type": "code",
   "execution_count": 42,
   "id": "cfe9c09c-d11c-470e-bde1-4e07fb3906df",
   "metadata": {},
   "outputs": [],
   "source": [
    "X_train, X_test, y_train, y_test = train_test_split(X, y, test_size=0.20, random_state=42)"
   ]
  },
  {
   "cell_type": "code",
   "execution_count": 43,
   "id": "56b0c874-9921-43c8-b39d-54d974af5bd0",
   "metadata": {},
   "outputs": [],
   "source": [
    "X_train, X_val, y_train, y_val = train_test_split(X_train, y_train, test_size=0.10, random_state=42)"
   ]
  },
  {
   "cell_type": "markdown",
   "id": "b498f223-981b-45cb-805d-b36613717d07",
   "metadata": {},
   "source": [
    "## Classifier Function"
   ]
  },
  {
   "cell_type": "code",
   "execution_count": 82,
   "id": "4e8392e1-1320-4d25-b3f9-9ab66f3cf43c",
   "metadata": {},
   "outputs": [],
   "source": [
    "def random_forest_classifier(inputs, targets, acc = False, plot = True, ret = False):\n",
    "    #VERY IMPORTANT\n",
    "\n",
    "    if type(inputs) != list:\n",
    "        y = targets.values\n",
    "        X = inputs.values / inputs.values.max(axis=0)\n",
    "        X_train, X_test, y_train, y_test = train_test_split(X, y, test_size=0.30)#, random_state=42)\n",
    "#     X_train, X_val, y_train, y_val = train_test_split(X_train, y_train, test_size=0.20, random_state=42)\n",
    "    \n",
    "    else:\n",
    "        X_train, y_train, X_test, y_test = inputs\n",
    "    \n",
    "    clf = RandomForestClassifier(n_estimators=10)#, random_state=0)\n",
    "    clf = clf.fit(X_train, y_train)\n",
    "    pred = clf.predict(X_test)\n",
    "    if plot == True:\n",
    "        print(\"Accuracy: \", (pred == y_test).sum()/len(X_test))\n",
    "        print(\"Count Predicted: \", np.unique(pred, return_counts=True)[1])\n",
    "        print(\"Real Count: \", np.unique(y_test, return_counts=True)[1])\n",
    "        c = np.unique(y_test, return_counts=True)[1]\n",
    "        print(\"Accuracy Predicting Top class: \",max(c)/sum(c) )\n",
    "        print(\"\\n\")\n",
    "        print(classification_report(pred, y_test))\n",
    "\n",
    "        print(\"\\n\")\n",
    "        print(plot_confusion_matrix(clf, X_test, y_test))\n",
    "    \n",
    "    if ret == True:\n",
    "        r = []\n",
    "        pred = clf.predict(X_train)\n",
    "        r.append((pred == y_train).sum()/len(X_train))\n",
    "        pred = clf.predict(X_test)\n",
    "        r.append((pred == y_test).sum()/len(X_test))\n",
    "        \n",
    "        r.append(pd.DataFrame(classification_report(pred, y_test ,output_dict=True)).transpose())\n",
    "\n",
    "#         for i in set(y_test):\n",
    "#             pred = clf.predict(X_test[np.where(y_test == i)])\n",
    "#             r.append((pred == int(i)).sum()/(y_test == i).sum())\n",
    "        \n",
    "       \n",
    "        return(r)\n",
    "    if acc == True:\n",
    "        return( (pred == y_test).sum()/len(X_test))"
   ]
  },
  {
   "cell_type": "code",
   "execution_count": 83,
   "id": "5687bac8-1f69-47b7-8d92-f640a8d07c65",
   "metadata": {},
   "outputs": [],
   "source": [
    "r = random_forest_classifier(df_inputs_2class, df_targets_2class[\"FC3_cat\"], ret = True, plot = False)"
   ]
  },
  {
   "cell_type": "code",
   "execution_count": 84,
   "id": "def6e722-4c6a-4984-9627-72a802b168a7",
   "metadata": {},
   "outputs": [
    {
     "data": {
      "text/plain": [
       "[0.9762228260869565,\n",
       " 0.7729106628242075,\n",
       "               precision    recall  f1-score       support\n",
       " 0              0.952553  0.799674  0.869444  12879.000000\n",
       " 1              0.144326  0.428717  0.215953    982.000000\n",
       " 2              0.047244  0.461538  0.085714     13.000000\n",
       " 3              0.083333  0.333333  0.133333      6.000000\n",
       " accuracy       0.772911  0.772911  0.772911      0.772911\n",
       " macro avg      0.306864  0.505816  0.326111  13880.000000\n",
       " weighted avg   0.894148  0.772911  0.822158  13880.000000]"
      ]
     },
     "execution_count": 84,
     "metadata": {},
     "output_type": "execute_result"
    }
   ],
   "source": [
    "r"
   ]
  },
  {
   "cell_type": "code",
   "execution_count": 49,
   "id": "50d9a119-86e3-4baa-acb5-a9a2d844e340",
   "metadata": {},
   "outputs": [
    {
     "name": "stdout",
     "output_type": "stream",
     "text": [
      "Accuracy:  0.5661526746620978\n",
      "Count Predicted:  [2598 2551   76   28]\n",
      "Real Count:  [2307 2566  298   82]\n",
      "Accuracy Predicting Top class:  0.48848277174947646\n",
      "\n",
      "\n",
      "              precision    recall  f1-score   support\n",
      "\n",
      "           0       0.64      0.56      0.60      2598\n",
      "           1       0.57      0.58      0.57      2551\n",
      "           2       0.07      0.26      0.11        76\n",
      "           3       0.22      0.64      0.33        28\n",
      "\n",
      "    accuracy                           0.57      5253\n",
      "   macro avg       0.37      0.51      0.40      5253\n",
      "weighted avg       0.59      0.57      0.58      5253\n",
      "\n",
      "\n",
      "\n",
      "<sklearn.metrics._plot.confusion_matrix.ConfusionMatrixDisplay object at 0x00000202DE146940>\n"
     ]
    },
    {
     "data": {
      "image/png": "[encoded data removed]",
      "text/plain": [
       "<Figure size 432x288 with 2 Axes>"
      ]
     },
     "metadata": {
      "needs_background": "light"
     },
     "output_type": "display_data"
    }
   ],
   "source": [
    "random_forest_classifier(df_inputs_2class, df_targets_2class[\"FC5_cat\"])"
   ]
  },
  {
   "cell_type": "code",
   "execution_count": 15,
   "id": "e547829a-643d-4e9a-93c3-d67a20379092",
   "metadata": {},
   "outputs": [
    {
     "name": "stdout",
     "output_type": "stream",
     "text": [
      "Accuracy:  0.529178674351585\n",
      "Count Predicted:  [3329 9346  612  593]\n",
      "Real Count:  [4212 6600 1934 1134]\n",
      "Accuracy Predicting Top class:  0.4755043227665706\n",
      "\n",
      "\n",
      "              precision    recall  f1-score   support\n",
      "\n",
      "           0       0.42      0.54      0.47      3329\n",
      "           1       0.75      0.53      0.62      9346\n",
      "           2       0.12      0.38      0.18       612\n",
      "           3       0.30      0.58      0.40       593\n",
      "\n",
      "    accuracy                           0.53     13880\n",
      "   macro avg       0.40      0.51      0.42     13880\n",
      "weighted avg       0.63      0.53      0.56     13880\n",
      "\n",
      "\n",
      "\n",
      "<sklearn.metrics._plot.confusion_matrix.ConfusionMatrixDisplay object at 0x000002633E8A2A90>\n"
     ]
    },
    {
     "data": {
      "image/png": "[encoded data removed]",
      "text/plain": [
       "<Figure size 432x288 with 2 Axes>"
      ]
     },
     "metadata": {
      "needs_background": "light"
     },
     "output_type": "display_data"
    }
   ],
   "source": [
    "random_forest_classifier(df_inputs_2class, df_targets_2class[\"FC10_cat\"])"
   ]
  },
  {
   "cell_type": "code",
   "execution_count": 20,
   "id": "50574a2d-e61a-4e4a-a230-7842c2e4f5d1",
   "metadata": {},
   "outputs": [
    {
     "name": "stdout",
     "output_type": "stream",
     "text": [
      "Accuracy:  0.5991834774255523\n",
      "Count Predicted:  [5297 3031]\n",
      "Real Count:  [4521 3807]\n",
      "Accuracy Predicting Top class:  0.5428674351585014\n",
      "\n",
      "\n",
      "              precision    recall  f1-score   support\n",
      "\n",
      "           2       0.72      0.61      0.66      5297\n",
      "           3       0.46      0.58      0.51      3031\n",
      "\n",
      "    accuracy                           0.60      8328\n",
      "   macro avg       0.59      0.59      0.59      8328\n",
      "weighted avg       0.62      0.60      0.61      8328\n",
      "\n",
      "\n",
      "\n",
      "<sklearn.metrics._plot.confusion_matrix.ConfusionMatrixDisplay object at 0x000001FAC92B5FA0>\n"
     ]
    },
    {
     "data": {
      "image/png": "[encoded data removed]",
      "text/plain": [
       "<Figure size 432x288 with 2 Axes>"
      ]
     },
     "metadata": {
      "needs_background": "light"
     },
     "output_type": "display_data"
    }
   ],
   "source": [
    "random_forest_classifier(df_inputs_2class, df_targets_2class[\"FC3_cat_quartiles\"])"
   ]
  },
  {
   "cell_type": "code",
   "execution_count": 21,
   "id": "ee580364-d7ea-40be-94ec-ceaa81e532c8",
   "metadata": {},
   "outputs": [
    {
     "name": "stdout",
     "output_type": "stream",
     "text": [
      "Accuracy:  0.45184918347742553\n",
      "Count Predicted:  [2888 2871 2569]\n",
      "Real Count:  [2725 2872 2731]\n",
      "Accuracy Predicting Top class:  0.3448607108549472\n",
      "\n",
      "\n",
      "              precision    recall  f1-score   support\n",
      "\n",
      "           1       0.47      0.45      0.46      2888\n",
      "           2       0.39      0.39      0.39      2871\n",
      "           3       0.49      0.52      0.51      2569\n",
      "\n",
      "    accuracy                           0.45      8328\n",
      "   macro avg       0.45      0.45      0.45      8328\n",
      "weighted avg       0.45      0.45      0.45      8328\n",
      "\n",
      "\n",
      "\n",
      "<sklearn.metrics._plot.confusion_matrix.ConfusionMatrixDisplay object at 0x000001FAC7820E20>\n"
     ]
    },
    {
     "data": {
      "image/png": "[encoded data removed]",
      "text/plain": [
       "<Figure size 432x288 with 2 Axes>"
      ]
     },
     "metadata": {
      "needs_background": "light"
     },
     "output_type": "display_data"
    }
   ],
   "source": [
    "random_forest_classifier(df_inputs_2class, df_targets_2class[\"FC5_cat_quartiles\"])"
   ]
  },
  {
   "cell_type": "code",
   "execution_count": 22,
   "id": "71e3756f-6af4-4ef9-82b9-85c7f982ed07",
   "metadata": {},
   "outputs": [
    {
     "name": "stdout",
     "output_type": "stream",
     "text": [
      "Accuracy:  0.4092219020172911\n",
      "Count Predicted:  [ 973 1919 3445 1991]\n",
      "Real Count:  [1360 2073 2749 2146]\n",
      "Accuracy Predicting Top class:  0.33009125840537945\n",
      "\n",
      "\n",
      "              precision    recall  f1-score   support\n",
      "\n",
      "           0       0.27      0.38      0.32       973\n",
      "           1       0.32      0.35      0.33      1919\n",
      "           2       0.49      0.39      0.44      3445\n",
      "           3       0.47      0.51      0.49      1991\n",
      "\n",
      "    accuracy                           0.41      8328\n",
      "   macro avg       0.39      0.41      0.39      8328\n",
      "weighted avg       0.42      0.41      0.41      8328\n",
      "\n",
      "\n",
      "\n",
      "<sklearn.metrics._plot.confusion_matrix.ConfusionMatrixDisplay object at 0x000001FAC92AECD0>\n"
     ]
    },
    {
     "data": {
      "image/png": "[encoded data removed]",
      "text/plain": [
       "<Figure size 432x288 with 2 Axes>"
      ]
     },
     "metadata": {
      "needs_background": "light"
     },
     "output_type": "display_data"
    }
   ],
   "source": [
    "random_forest_classifier(df_inputs_2class, df_targets_2class[\"FC10_cat_quartiles\"])"
   ]
  },
  {
   "cell_type": "markdown",
   "id": "0dfeb18e-4a91-42a2-902e-0b0d4dabccc6",
   "metadata": {},
   "source": [
    "## Regressor Function"
   ]
  },
  {
   "cell_type": "code",
   "execution_count": 309,
   "id": "0f57de3c-3e25-45f5-bdad-e5b72d9fce11",
   "metadata": {},
   "outputs": [],
   "source": [
    "def random_forest_regressor(inputs, targets, rmse = False):\n",
    "\n",
    "    if type(inputs) != list:\n",
    "        y = targets.values\n",
    "        X = inputs.values / inputs.values.max(axis=0)\n",
    "        X_train, X_test, y_train, y_test = train_test_split(X, y, test_size=0.30)#, random_state=42)\n",
    "  \n",
    "    else:\n",
    "        X_train, y_train, X_test, y_test = inputs  \n",
    "    \n",
    "    clf = RandomForestRegressor()#n_estimators=2000, random_state=0)\n",
    "    clf = clf.fit(X_train, y_train)\n",
    "    pred = clf.predict(X_test)\n",
    "\n",
    "    if rmse == True:\n",
    "        return(np.sqrt(mean_squared_error(pred, y_test)), np.std(targets.values)) \n",
    "    \n",
    "    return(pred, y_val)"
   ]
  },
  {
   "cell_type": "code",
   "execution_count": 306,
   "id": "5b65dc12-058c-4a3b-b64a-10c129495f19",
   "metadata": {},
   "outputs": [],
   "source": [
    "from sklearn.model_selection import KFold\n",
    "kf5 = KFold(n_splits=5, shuffle=False)\n",
    "\n",
    "\n",
    "def regressor_results(target, kfold = False):\n",
    "    res = []   \n",
    "    rn = range(1, df_inputs_2class.shape[0])\n",
    "    count = 0\n",
    "\n",
    "    for train_index, test_index in kf5.split(rn):\n",
    "        print(\"Model \", count + 1, \" / \" , 5)\n",
    "        count+=1\n",
    "                \n",
    "        res_iter = []\n",
    "        \n",
    "        if kfold == True:\n",
    "            inputs = [df_inputs_2class.iloc[train_index],  target[train_index], df_inputs_2class.iloc[test_index], target[test_index]]\n",
    "        \n",
    "        else:\n",
    "            inputs  = df_inputs_2class\n",
    "            \n",
    "        r = random_forest_regressor(inputs, target, rmse = True)\n",
    "\n",
    "        res.append(r)\n",
    "    res = pd.DataFrame(res, columns = [\"RMSE\", \"Standard Deviation\"] )\n",
    "    res[\"norm\"] = res[\"RMSE\"]/res[\"Standard Deviation\"]\n",
    "    return(res)"
   ]
  },
  {
   "cell_type": "code",
   "execution_count": 307,
   "id": "45bd1ae5-acd0-4619-a2a2-125f9e6124e8",
   "metadata": {},
   "outputs": [
    {
     "name": "stdout",
     "output_type": "stream",
     "text": [
      "Model  1  /  5\n",
      "Root Mean Squared Error:  1.806037990054793\n",
      "Standard Deviation:  2.0383062349806305\n",
      "Model  2  /  5\n",
      "Root Mean Squared Error:  2.055529001435381\n",
      "Standard Deviation:  2.0383062349806305\n",
      "Model  3  /  5\n",
      "Root Mean Squared Error:  2.12135274511427\n",
      "Standard Deviation:  2.0383062349806305\n",
      "Model  4  /  5\n",
      "Root Mean Squared Error:  1.9452400828843381\n",
      "Standard Deviation:  2.0383062349806305\n",
      "Model  5  /  5\n",
      "Root Mean Squared Error:  1.8958223196894843\n",
      "Standard Deviation:  2.0383062349806305\n"
     ]
    }
   ],
   "source": [
    "RMSE = []\n",
    "std = []\n",
    "\n",
    "r = regressor_results(df_targets_2class[\"FC3\"], kfold = True)\n",
    "r[\"norm\"].describe()[1:3]\n",
    "\n",
    "RMSE.append(r[\"norm\"].describe()[1:3][0])\n",
    "std.append(r[\"norm\"].describe()[1:3][1])"
   ]
  },
  {
   "cell_type": "code",
   "execution_count": 311,
   "id": "b3d38f64-1f46-4f28-b8c0-2a2d49ae5df6",
   "metadata": {},
   "outputs": [
    {
     "name": "stdout",
     "output_type": "stream",
     "text": [
      "Model  1  /  5\n",
      "Model  2  /  5\n",
      "Model  3  /  5\n",
      "Model  4  /  5\n",
      "Model  5  /  5\n"
     ]
    },
    {
     "data": {
      "text/plain": [
       "mean    0.903918\n",
       "std     0.073342\n",
       "Name: norm, dtype: float64"
      ]
     },
     "execution_count": 311,
     "metadata": {},
     "output_type": "execute_result"
    }
   ],
   "source": [
    "r = regressor_results(df_targets_2class[\"FC5\"], kfold = True)\n",
    "r[\"norm\"].describe()[1:3]\n",
    "\n",
    "RMSE.append(r[\"norm\"].describe()[1:3][0])\n",
    "std.append(r[\"norm\"].describe()[1:3][1])"
   ]
  },
  {
   "cell_type": "code",
   "execution_count": 312,
   "id": "03497d7f-cefa-4a68-9805-837fb3bee10a",
   "metadata": {},
   "outputs": [
    {
     "name": "stdout",
     "output_type": "stream",
     "text": [
      "Model  1  /  5\n",
      "Model  2  /  5\n",
      "Model  3  /  5\n",
      "Model  4  /  5\n",
      "Model  5  /  5\n"
     ]
    },
    {
     "data": {
      "text/plain": [
       "mean    0.854755\n",
       "std     0.044768\n",
       "Name: norm, dtype: float64"
      ]
     },
     "execution_count": 312,
     "metadata": {},
     "output_type": "execute_result"
    }
   ],
   "source": [
    "r = regressor_results(df_targets_2class[\"FC10\"], kfold = True)\n",
    "r[\"norm\"].describe()[1:3]\n",
    "\n",
    "RMSE.append(r[\"norm\"].describe()[1:3][0])\n",
    "std.append(r[\"norm\"].describe()[1:3][1])"
   ]
  },
  {
   "cell_type": "code",
   "execution_count": 313,
   "id": "8cd5c229-758b-461e-af39-f8452c09b45c",
   "metadata": {},
   "outputs": [
    {
     "name": "stdout",
     "output_type": "stream",
     "text": [
      "Model  1  /  5\n",
      "Model  2  /  5\n",
      "Model  3  /  5\n",
      "Model  4  /  5\n",
      "Model  5  /  5\n"
     ]
    },
    {
     "data": {
      "text/plain": [
       "mean    0.884549\n",
       "std     0.038989\n",
       "Name: norm, dtype: float64"
      ]
     },
     "execution_count": 313,
     "metadata": {},
     "output_type": "execute_result"
    }
   ],
   "source": [
    "r = regressor_results(df_targets_2class[\"sliding_window_12\"], kfold = True)\n",
    "r[\"norm\"].describe()[1:3]"
   ]
  },
  {
   "cell_type": "code",
   "execution_count": 314,
   "id": "11b078b3-e27e-4c7f-a31c-fa3034547351",
   "metadata": {},
   "outputs": [],
   "source": [
    "RMSE = [0.963936,  0.903918, 0.854755, 0.884549]\n",
    "std =  [0.061612,  0.073342, 0.044768, 0.038989]"
   ]
  },
  {
   "cell_type": "code",
   "execution_count": 318,
   "id": "a180650e-64e1-485b-bb71-71c3f3d5ef3b",
   "metadata": {},
   "outputs": [
    {
     "data": {
      "text/plain": [
       "Text(0, 0.5, 'Normalised RMSE')"
      ]
     },
     "execution_count": 318,
     "metadata": {},
     "output_type": "execute_result"
    },
    {
     "data": {
      "image/png": "[encoded data removed]",
      "text/plain": [
       "<Figure size 432x288 with 1 Axes>"
      ]
     },
     "metadata": {
      "needs_background": "light"
     },
     "output_type": "display_data"
    }
   ],
   "source": [
    "plt.bar([\"FC3\", \"FC5\", \"FC10\", \"Page-Rank\"], RMSE, yerr = std )\n",
    "plt.ylabel(\"Normalised RMSE\")"
   ]
  },
  {
   "cell_type": "markdown",
   "id": "81c2d116-5ae1-456f-827a-7643fb8c9356",
   "metadata": {},
   "source": [
    "## Predicting PageRank"
   ]
  },
  {
   "cell_type": "markdown",
   "id": "63b667a8-112f-4380-8219-8a91c2bb065a",
   "metadata": {},
   "source": [
    "### Regression models"
   ]
  },
  {
   "cell_type": "code",
   "execution_count": 38,
   "id": "d330a1ee-1ad6-47b1-9c20-955d8fd1184a",
   "metadata": {},
   "outputs": [
    {
     "name": "stdout",
     "output_type": "stream",
     "text": [
      "Root Mean Squared Error:  7.598320507464376e-06\n",
      "Standard Deviation:  8.318353435463314e-06\n",
      "Root Mean Squared Error:  2.8611110149361988e-06\n",
      "Standard Deviation:  3.75712813883969e-06\n",
      "Root Mean Squared Error:  1.5390984516372413e-06\n",
      "Standard Deviation:  1.8986384517584932e-06\n",
      "Root Mean Squared Error:  6.351111481629443e-07\n",
      "Standard Deviation:  8.188024688974813e-07\n",
      "Root Mean Squared Error:  6.278790759319487e-07\n",
      "Standard Deviation:  6.995412499943299e-07\n",
      "Root Mean Squared Error:  4.847985866874171e-07\n",
      "Standard Deviation:  5.411049459436342e-07\n",
      "Root Mean Squared Error:  4.2799395871183116e-07\n",
      "Standard Deviation:  4.770719615216153e-07\n",
      "Root Mean Squared Error:  4.0410215158859313e-07\n",
      "Standard Deviation:  4.5014809111307466e-07\n",
      "Root Mean Squared Error:  3.939801156771109e-07\n",
      "Standard Deviation:  4.386437388381656e-07\n",
      "Root Mean Squared Error:  10.897299547015281\n",
      "Standard Deviation:  12.940000051216638\n",
      "Root Mean Squared Error:  6.773264851246584e-07\n",
      "Standard Deviation:  7.329864169782309e-07\n"
     ]
    }
   ],
   "source": [
    "preds = []\n",
    "for i in range(9):\n",
    "    preds.append(random_forest_regressor(df_inputs_2class, df_targets_2class[\"pagerank_order{}\".format(i)], rmse = True ))\n",
    "\n",
    "preds.append(random_forest_regressor(df_inputs_2class, df_targets_2class[\"inlinks_all\"], rmse = True))\n",
    "preds.append(random_forest_regressor(df_inputs_2class, df_targets_2class[\"sliding_window\"], rmse = True))"
   ]
  },
  {
   "cell_type": "code",
   "execution_count": 39,
   "id": "f4861dbb-ab11-43af-a12f-29ca9a325f25",
   "metadata": {},
   "outputs": [],
   "source": [
    "preds = np.asarray(preds)"
   ]
  },
  {
   "cell_type": "code",
   "execution_count": 40,
   "id": "8bc6e79d-ef90-4846-b8e7-ef938a61efdf",
   "metadata": {},
   "outputs": [
    {
     "data": {
      "text/plain": [
       "Text(0, 0.5, 'Normalised Error')"
      ]
     },
     "execution_count": 40,
     "metadata": {},
     "output_type": "execute_result"
    },
    {
     "data": {
      "image/png": "[encoded data removed]",
      "text/plain": [
       "<Figure size 1080x360 with 1 Axes>"
      ]
     },
     "metadata": {
      "needs_background": "light"
     },
     "output_type": "display_data"
    }
   ],
   "source": [
    "plt.figure(figsize = (15, 5))\n",
    "plt.bar([\"Order {}\".format(i) for i in range(9)] + [\"Inlinks All\", \"Sliding Window\"], preds[:, 0]/ preds[:, 1])\n",
    "plt.ylabel(\"Normalised Error\")"
   ]
  },
  {
   "cell_type": "markdown",
   "id": "969325b2-870d-4b53-ac2c-d4c31a9ff03f",
   "metadata": {},
   "source": [
    "### Classifying"
   ]
  },
  {
   "cell_type": "code",
   "execution_count": 91,
   "id": "b2587a0b-20a9-4f30-9661-64127973b258",
   "metadata": {},
   "outputs": [],
   "source": [
    "def categorical_FC_quartiles(df, col, caps = None):\n",
    "    ret = pd.DataFrame()\n",
    "\n",
    "    FC_cat = np.full(len(df), 3)\n",
    "    FC_cat[((df[col] > 0) & (df[col] < 2)).values].shape\n",
    "    \n",
    "    if caps == None:\n",
    "        caps = df[col].describe().loc[[\"min\", \"25%\", \"50%\", \"75%\"]].values  # [0,2,10,20]\n",
    "    FC_cat = np.full(len(df), 3)\n",
    "    print(col, caps)\n",
    "    for cap in range(len(caps)-1):\n",
    "        FC_cat[((df[col] >= caps[cap]) & (df[col] < caps[cap+1])).values] = cap\n",
    "\n",
    "\n",
    "        \n",
    "    return(FC_cat)"
   ]
  },
  {
   "cell_type": "code",
   "execution_count": 92,
   "id": "80d3a39e-cb69-46f6-8f3d-891c31d00cc5",
   "metadata": {},
   "outputs": [
    {
     "name": "stdout",
     "output_type": "stream",
     "text": [
      "inlinks_all [ 0.  2.  5. 12.]\n",
      "FC3 [0. 0. 0. 1.]\n",
      "FC5 [0. 0. 1. 3.]\n",
      "FC10 [0. 1. 3. 9.]\n",
      "sliding_window_12 [0.15172764 0.55880503 0.95776742 1.4047619 ]\n"
     ]
    }
   ],
   "source": [
    "cat_pr = pd.DataFrame()\n",
    "for i in [\"inlinks_all\", \"FC3\", \"FC5\", \"FC10\", \"sliding_window_12\"]:\n",
    "    cat_pr[i] = categorical_FC_quartiles(df_2class, i)"
   ]
  },
  {
   "cell_type": "code",
   "execution_count": 93,
   "id": "3b5e00af-3d31-486e-931b-9efacfc2dac6",
   "metadata": {},
   "outputs": [
    {
     "name": "stdout",
     "output_type": "stream",
     "text": [
      "FC10 [0, 2, 10, 20]\n",
      "FC3 [0, 2, 10, 20]\n",
      "FC3 [0, 2, 10, 20]\n"
     ]
    }
   ],
   "source": [
    "cat_pr[\"FC10 original\"] = categorical_FC_quartiles(df_2class, \"FC10\", caps = [0,2,10,20])\n",
    "cat_pr[\"FC3 original\"] = categorical_FC_quartiles(df_2class, \"FC3\", caps = [0,2,10,20])\n",
    "cat_pr[\"FC5 original\"] = categorical_FC_quartiles(df_2class, \"FC3\", caps = [0,2,10,20])"
   ]
  },
  {
   "cell_type": "code",
   "execution_count": 85,
   "id": "73bce071-22ed-4fde-a493-107733a95674",
   "metadata": {},
   "outputs": [],
   "source": [
    "from sklearn.model_selection import KFold\n",
    "kf5 = KFold(n_splits=5, shuffle=False)\n",
    "\n",
    "def classifier_results(target, kfold = False):\n",
    "    res = []   \n",
    "    rn = range(1, df_inputs_2class.shape[0])\n",
    "    count = 0\n",
    "\n",
    "    for train_index, test_index in kf5.split(rn):\n",
    "        print(\"Model \", count + 1, \" / \" , 5)\n",
    "        count+=1\n",
    "        \n",
    "        res_iter = []\n",
    "        \n",
    "        if kfold == True:\n",
    "            inputs = [df_inputs_2class.iloc[train_index],  target[train_index], df_inputs_2class.iloc[test_index], target[test_index]]\n",
    "        \n",
    "        else:\n",
    "            inputs  = df_inputs_2class\n",
    "            \n",
    "        r = random_forest_classifier(inputs, target, ret = True, plot = False)\n",
    "        res_iter.append(r[0])\n",
    "        res_iter.append(r[1])\n",
    "\n",
    "        for c in range(len(r[2]) -3):\n",
    "            res_iter.append(r[2][\"precision\"][c])\n",
    "            res_iter.append(r[2][\"recall\"][c])\n",
    "        res.append(res_iter)\n",
    "\n",
    "    res = np.asarray(res)\n",
    "\n",
    "    t = []\n",
    "    for i in [[\"Precision \" + str(i), \"Recall \" + str(i) ]for i in range(len(r[2]) -3) ]:\n",
    "        t += i\n",
    "    return(pd.DataFrame(res, columns = [\"Train acc\", \"Test acc\"] + t))"
   ]
  },
  {
   "cell_type": "code",
   "execution_count": 1,
   "id": "bf99102a-d963-4d8d-8ab1-f41a4acae474",
   "metadata": {},
   "outputs": [],
   "source": [
    "r = classifier_results(cat_pr[\"FC3 original\"])"
   ]
  },
  {
   "cell_type": "code",
   "execution_count": 55,
   "id": "d2f7d018-b996-4b73-8a1b-e42c06c87824",
   "metadata": {},
   "outputs": [
    {
     "data": {
      "text/html": [
       "<div>\n",
       "<style scoped>\n",
       "    .dataframe tbody tr th:only-of-type {\n",
       "        vertical-align: middle;\n",
       "    }\n",
       "\n",
       "    .dataframe tbody tr th {\n",
       "        vertical-align: top;\n",
       "    }\n",
       "\n",
       "    .dataframe thead th {\n",
       "        text-align: right;\n",
       "    }\n",
       "</style>\n",
       "<table border=\"1\" class=\"dataframe\">\n",
       "  <thead>\n",
       "    <tr style=\"text-align: right;\">\n",
       "      <th></th>\n",
       "      <th>Train acc</th>\n",
       "      <th>Test acc</th>\n",
       "      <th>Precision 0</th>\n",
       "      <th>Recall 0</th>\n",
       "      <th>Precision 1</th>\n",
       "      <th>Recall 1</th>\n",
       "      <th>Precision 2</th>\n",
       "      <th>Recall 2</th>\n",
       "      <th>Precision 3</th>\n",
       "      <th>Recall 3</th>\n",
       "    </tr>\n",
       "  </thead>\n",
       "  <tbody>\n",
       "    <tr>\n",
       "      <th>mean</th>\n",
       "      <td>97.81</td>\n",
       "      <td>72.55</td>\n",
       "      <td>92.28</td>\n",
       "      <td>75.89</td>\n",
       "      <td>19.94</td>\n",
       "      <td>46.54</td>\n",
       "      <td>8.95</td>\n",
       "      <td>50.49</td>\n",
       "      <td>8.33</td>\n",
       "      <td>40.00</td>\n",
       "    </tr>\n",
       "    <tr>\n",
       "      <th>std</th>\n",
       "      <td>0.13</td>\n",
       "      <td>0.28</td>\n",
       "      <td>0.45</td>\n",
       "      <td>0.38</td>\n",
       "      <td>1.00</td>\n",
       "      <td>1.22</td>\n",
       "      <td>3.11</td>\n",
       "      <td>13.72</td>\n",
       "      <td>10.27</td>\n",
       "      <td>41.83</td>\n",
       "    </tr>\n",
       "  </tbody>\n",
       "</table>\n",
       "</div>"
      ],
      "text/plain": [
       "      Train acc  Test acc  Precision 0  Recall 0  Precision 1  Recall 1  \\\n",
       "mean      97.81     72.55        92.28     75.89        19.94     46.54   \n",
       "std        0.13      0.28         0.45      0.38         1.00      1.22   \n",
       "\n",
       "      Precision 2  Recall 2  Precision 3  Recall 3  \n",
       "mean         8.95     50.49         8.33     40.00  \n",
       "std          3.11     13.72        10.27     41.83  "
      ]
     },
     "execution_count": 55,
     "metadata": {},
     "output_type": "execute_result"
    }
   ],
   "source": [
    "(r.describe().iloc[1:3] * 100).round(2)"
   ]
  },
  {
   "cell_type": "code",
   "execution_count": 56,
   "id": "db81dd2e-587e-4ad9-877e-85edf0c7d06a",
   "metadata": {},
   "outputs": [
    {
     "data": {
      "text/html": [
       "<div>\n",
       "<style scoped>\n",
       "    .dataframe tbody tr th:only-of-type {\n",
       "        vertical-align: middle;\n",
       "    }\n",
       "\n",
       "    .dataframe tbody tr th {\n",
       "        vertical-align: top;\n",
       "    }\n",
       "\n",
       "    .dataframe thead th {\n",
       "        text-align: right;\n",
       "    }\n",
       "</style>\n",
       "<table border=\"1\" class=\"dataframe\">\n",
       "  <thead>\n",
       "    <tr style=\"text-align: right;\">\n",
       "      <th></th>\n",
       "      <th>Train acc</th>\n",
       "      <th>Test acc</th>\n",
       "      <th>Precision 0</th>\n",
       "      <th>Recall 0</th>\n",
       "      <th>Precision 1</th>\n",
       "      <th>Recall 1</th>\n",
       "      <th>Precision 2</th>\n",
       "      <th>Recall 2</th>\n",
       "      <th>Precision 3</th>\n",
       "      <th>Recall 3</th>\n",
       "    </tr>\n",
       "  </thead>\n",
       "  <tbody>\n",
       "    <tr>\n",
       "      <th>0</th>\n",
       "      <td>0.976911</td>\n",
       "      <td>0.725300</td>\n",
       "      <td>0.920544</td>\n",
       "      <td>0.760199</td>\n",
       "      <td>0.205968</td>\n",
       "      <td>0.463175</td>\n",
       "      <td>0.081633</td>\n",
       "      <td>0.571429</td>\n",
       "      <td>0.250000</td>\n",
       "      <td>0.5</td>\n",
       "    </tr>\n",
       "    <tr>\n",
       "      <th>1</th>\n",
       "      <td>0.977727</td>\n",
       "      <td>0.725490</td>\n",
       "      <td>0.918547</td>\n",
       "      <td>0.762161</td>\n",
       "      <td>0.196442</td>\n",
       "      <td>0.445378</td>\n",
       "      <td>0.116279</td>\n",
       "      <td>0.555556</td>\n",
       "      <td>0.000000</td>\n",
       "      <td>0.0</td>\n",
       "    </tr>\n",
       "    <tr>\n",
       "      <th>2</th>\n",
       "      <td>0.976993</td>\n",
       "      <td>0.729678</td>\n",
       "      <td>0.927736</td>\n",
       "      <td>0.760656</td>\n",
       "      <td>0.191710</td>\n",
       "      <td>0.468354</td>\n",
       "      <td>0.119048</td>\n",
       "      <td>0.625000</td>\n",
       "      <td>0.000000</td>\n",
       "      <td>0.0</td>\n",
       "    </tr>\n",
       "    <tr>\n",
       "      <th>3</th>\n",
       "      <td>0.979603</td>\n",
       "      <td>0.721683</td>\n",
       "      <td>0.927536</td>\n",
       "      <td>0.752297</td>\n",
       "      <td>0.189496</td>\n",
       "      <td>0.475089</td>\n",
       "      <td>0.088235</td>\n",
       "      <td>0.272727</td>\n",
       "      <td>0.066667</td>\n",
       "      <td>1.0</td>\n",
       "    </tr>\n",
       "    <tr>\n",
       "      <th>4</th>\n",
       "      <td>0.979359</td>\n",
       "      <td>0.725490</td>\n",
       "      <td>0.919676</td>\n",
       "      <td>0.759179</td>\n",
       "      <td>0.213246</td>\n",
       "      <td>0.474878</td>\n",
       "      <td>0.042553</td>\n",
       "      <td>0.500000</td>\n",
       "      <td>0.100000</td>\n",
       "      <td>0.5</td>\n",
       "    </tr>\n",
       "  </tbody>\n",
       "</table>\n",
       "</div>"
      ],
      "text/plain": [
       "   Train acc  Test acc  Precision 0  Recall 0  Precision 1  Recall 1  \\\n",
       "0   0.976911  0.725300     0.920544  0.760199     0.205968  0.463175   \n",
       "1   0.977727  0.725490     0.918547  0.762161     0.196442  0.445378   \n",
       "2   0.976993  0.729678     0.927736  0.760656     0.191710  0.468354   \n",
       "3   0.979603  0.721683     0.927536  0.752297     0.189496  0.475089   \n",
       "4   0.979359  0.725490     0.919676  0.759179     0.213246  0.474878   \n",
       "\n",
       "   Precision 2  Recall 2  Precision 3  Recall 3  \n",
       "0     0.081633  0.571429     0.250000       0.5  \n",
       "1     0.116279  0.555556     0.000000       0.0  \n",
       "2     0.119048  0.625000     0.000000       0.0  \n",
       "3     0.088235  0.272727     0.066667       1.0  \n",
       "4     0.042553  0.500000     0.100000       0.5  "
      ]
     },
     "execution_count": 56,
     "metadata": {},
     "output_type": "execute_result"
    }
   ],
   "source": [
    "r"
   ]
  },
  {
   "cell_type": "code",
   "execution_count": 2,
   "id": "339ec867-12da-4de7-bcf1-322796efa378",
   "metadata": {},
   "outputs": [],
   "source": [
    "r = classifier_results(cat_pr[\"FC5 original\"])"
   ]
  },
  {
   "cell_type": "code",
   "execution_count": 58,
   "id": "fc18d834-7afe-4782-aba8-c1cebfeaf0dd",
   "metadata": {},
   "outputs": [
    {
     "data": {
      "text/html": [
       "<div>\n",
       "<style scoped>\n",
       "    .dataframe tbody tr th:only-of-type {\n",
       "        vertical-align: middle;\n",
       "    }\n",
       "\n",
       "    .dataframe tbody tr th {\n",
       "        vertical-align: top;\n",
       "    }\n",
       "\n",
       "    .dataframe thead th {\n",
       "        text-align: right;\n",
       "    }\n",
       "</style>\n",
       "<table border=\"1\" class=\"dataframe\">\n",
       "  <thead>\n",
       "    <tr style=\"text-align: right;\">\n",
       "      <th></th>\n",
       "      <th>Train acc</th>\n",
       "      <th>Test acc</th>\n",
       "      <th>Precision 0</th>\n",
       "      <th>Recall 0</th>\n",
       "      <th>Precision 1</th>\n",
       "      <th>Recall 1</th>\n",
       "      <th>Precision 2</th>\n",
       "      <th>Recall 2</th>\n",
       "      <th>Precision 3</th>\n",
       "      <th>Recall 3</th>\n",
       "    </tr>\n",
       "  </thead>\n",
       "  <tbody>\n",
       "    <tr>\n",
       "      <th>mean</th>\n",
       "      <td>97.78</td>\n",
       "      <td>72.78</td>\n",
       "      <td>92.52</td>\n",
       "      <td>76.05</td>\n",
       "      <td>19.97</td>\n",
       "      <td>46.76</td>\n",
       "      <td>7.16</td>\n",
       "      <td>62.24</td>\n",
       "      <td>5.08</td>\n",
       "      <td>26.67</td>\n",
       "    </tr>\n",
       "    <tr>\n",
       "      <th>std</th>\n",
       "      <td>0.11</td>\n",
       "      <td>0.32</td>\n",
       "      <td>0.46</td>\n",
       "      <td>0.58</td>\n",
       "      <td>1.51</td>\n",
       "      <td>1.73</td>\n",
       "      <td>1.67</td>\n",
       "      <td>16.87</td>\n",
       "      <td>7.05</td>\n",
       "      <td>43.46</td>\n",
       "    </tr>\n",
       "  </tbody>\n",
       "</table>\n",
       "</div>"
      ],
      "text/plain": [
       "      Train acc  Test acc  Precision 0  Recall 0  Precision 1  Recall 1  \\\n",
       "mean      97.78     72.78        92.52     76.05        19.97     46.76   \n",
       "std        0.11      0.32         0.46      0.58         1.51      1.73   \n",
       "\n",
       "      Precision 2  Recall 2  Precision 3  Recall 3  \n",
       "mean         7.16     62.24         5.08     26.67  \n",
       "std          1.67     16.87         7.05     43.46  "
      ]
     },
     "execution_count": 58,
     "metadata": {},
     "output_type": "execute_result"
    }
   ],
   "source": [
    "(r.describe().iloc[1:3] * 100).round(2)"
   ]
  },
  {
   "cell_type": "code",
   "execution_count": 59,
   "id": "921f7be0-8ef4-4346-9077-bb21ea67a566",
   "metadata": {},
   "outputs": [
    {
     "name": "stdout",
     "output_type": "stream",
     "text": [
      "Model  1  /  5\n",
      "Model  2  /  5\n",
      "Model  3  /  5\n",
      "Model  4  /  5\n",
      "Model  5  /  5\n"
     ]
    }
   ],
   "source": [
    "r = classifier_results(cat_pr[\"FC10 original\"])"
   ]
  },
  {
   "cell_type": "code",
   "execution_count": 60,
   "id": "a8234661-e826-43e6-a79f-f4779c6eab91",
   "metadata": {},
   "outputs": [
    {
     "data": {
      "text/html": [
       "<div>\n",
       "<style scoped>\n",
       "    .dataframe tbody tr th:only-of-type {\n",
       "        vertical-align: middle;\n",
       "    }\n",
       "\n",
       "    .dataframe tbody tr th {\n",
       "        vertical-align: top;\n",
       "    }\n",
       "\n",
       "    .dataframe thead th {\n",
       "        text-align: right;\n",
       "    }\n",
       "</style>\n",
       "<table border=\"1\" class=\"dataframe\">\n",
       "  <thead>\n",
       "    <tr style=\"text-align: right;\">\n",
       "      <th></th>\n",
       "      <th>Train acc</th>\n",
       "      <th>Test acc</th>\n",
       "      <th>Precision 0</th>\n",
       "      <th>Recall 0</th>\n",
       "      <th>Precision 1</th>\n",
       "      <th>Recall 1</th>\n",
       "      <th>Precision 2</th>\n",
       "      <th>Recall 2</th>\n",
       "      <th>Precision 3</th>\n",
       "      <th>Recall 3</th>\n",
       "    </tr>\n",
       "  </thead>\n",
       "  <tbody>\n",
       "    <tr>\n",
       "      <th>mean</th>\n",
       "      <td>98.25</td>\n",
       "      <td>50.51</td>\n",
       "      <td>30.17</td>\n",
       "      <td>38.87</td>\n",
       "      <td>73.97</td>\n",
       "      <td>56.05</td>\n",
       "      <td>20.71</td>\n",
       "      <td>33.76</td>\n",
       "      <td>31.03</td>\n",
       "      <td>50.99</td>\n",
       "    </tr>\n",
       "    <tr>\n",
       "      <th>std</th>\n",
       "      <td>0.11</td>\n",
       "      <td>0.39</td>\n",
       "      <td>1.00</td>\n",
       "      <td>0.73</td>\n",
       "      <td>1.11</td>\n",
       "      <td>1.12</td>\n",
       "      <td>1.41</td>\n",
       "      <td>1.80</td>\n",
       "      <td>2.02</td>\n",
       "      <td>2.27</td>\n",
       "    </tr>\n",
       "  </tbody>\n",
       "</table>\n",
       "</div>"
      ],
      "text/plain": [
       "      Train acc  Test acc  Precision 0  Recall 0  Precision 1  Recall 1  \\\n",
       "mean      98.25     50.51        30.17     38.87        73.97     56.05   \n",
       "std        0.11      0.39         1.00      0.73         1.11      1.12   \n",
       "\n",
       "      Precision 2  Recall 2  Precision 3  Recall 3  \n",
       "mean        20.71     33.76        31.03     50.99  \n",
       "std          1.41      1.80         2.02      2.27  "
      ]
     },
     "execution_count": 60,
     "metadata": {},
     "output_type": "execute_result"
    }
   ],
   "source": [
    "(r.describe().iloc[1:3] * 100).round(2)"
   ]
  },
  {
   "cell_type": "code",
   "execution_count": 193,
   "id": "1fca4e91-b882-4882-8e42-5cff69810c14",
   "metadata": {},
   "outputs": [
    {
     "name": "stdout",
     "output_type": "stream",
     "text": [
      "Model  1  /  5\n",
      "Model  2  /  5\n",
      "Model  3  /  5\n",
      "Model  4  /  5\n",
      "Model  5  /  5\n"
     ]
    }
   ],
   "source": [
    "r = classifier_results(cat_pr[\"FC3\"])"
   ]
  },
  {
   "cell_type": "code",
   "execution_count": 194,
   "id": "ec2dc6e7-6755-4d14-b8ad-ef5539abf8f4",
   "metadata": {},
   "outputs": [
    {
     "data": {
      "text/html": [
       "<div>\n",
       "<style scoped>\n",
       "    .dataframe tbody tr th:only-of-type {\n",
       "        vertical-align: middle;\n",
       "    }\n",
       "\n",
       "    .dataframe tbody tr th {\n",
       "        vertical-align: top;\n",
       "    }\n",
       "\n",
       "    .dataframe thead th {\n",
       "        text-align: right;\n",
       "    }\n",
       "</style>\n",
       "<table border=\"1\" class=\"dataframe\">\n",
       "  <thead>\n",
       "    <tr style=\"text-align: right;\">\n",
       "      <th></th>\n",
       "      <th>Train acc</th>\n",
       "      <th>Test acc</th>\n",
       "      <th>Precision 0</th>\n",
       "      <th>Recall 0</th>\n",
       "      <th>Precision 1</th>\n",
       "      <th>Recall 1</th>\n",
       "    </tr>\n",
       "  </thead>\n",
       "  <tbody>\n",
       "    <tr>\n",
       "      <th>mean</th>\n",
       "      <td>0.999858</td>\n",
       "      <td>0.612363</td>\n",
       "      <td>0.730861</td>\n",
       "      <td>0.620978</td>\n",
       "      <td>0.472202</td>\n",
       "      <td>0.597276</td>\n",
       "    </tr>\n",
       "    <tr>\n",
       "      <th>std</th>\n",
       "      <td>0.000028</td>\n",
       "      <td>0.005165</td>\n",
       "      <td>0.007889</td>\n",
       "      <td>0.005484</td>\n",
       "      <td>0.008896</td>\n",
       "      <td>0.007477</td>\n",
       "    </tr>\n",
       "  </tbody>\n",
       "</table>\n",
       "</div>"
      ],
      "text/plain": [
       "      Train acc  Test acc  Precision 0  Recall 0  Precision 1  Recall 1\n",
       "mean   0.999858  0.612363     0.730861  0.620978     0.472202  0.597276\n",
       "std    0.000028  0.005165     0.007889  0.005484     0.008896  0.007477"
      ]
     },
     "execution_count": 194,
     "metadata": {},
     "output_type": "execute_result"
    }
   ],
   "source": [
    "r.describe().iloc[1:3]"
   ]
  },
  {
   "cell_type": "code",
   "execution_count": 195,
   "id": "0eda3c2f-ba4f-47a2-b394-e3410c995b0e",
   "metadata": {},
   "outputs": [
    {
     "name": "stdout",
     "output_type": "stream",
     "text": [
      "Model  1  /  5\n",
      "Model  2  /  5\n",
      "Model  3  /  5\n",
      "Model  4  /  5\n",
      "Model  5  /  5\n"
     ]
    },
    {
     "data": {
      "text/html": [
       "<div>\n",
       "<style scoped>\n",
       "    .dataframe tbody tr th:only-of-type {\n",
       "        vertical-align: middle;\n",
       "    }\n",
       "\n",
       "    .dataframe tbody tr th {\n",
       "        vertical-align: top;\n",
       "    }\n",
       "\n",
       "    .dataframe thead th {\n",
       "        text-align: right;\n",
       "    }\n",
       "</style>\n",
       "<table border=\"1\" class=\"dataframe\">\n",
       "  <thead>\n",
       "    <tr style=\"text-align: right;\">\n",
       "      <th></th>\n",
       "      <th>Train acc</th>\n",
       "      <th>Test acc</th>\n",
       "      <th>Precision 0</th>\n",
       "      <th>Recall 0</th>\n",
       "      <th>Precision 1</th>\n",
       "      <th>Recall 1</th>\n",
       "      <th>Precision 2</th>\n",
       "      <th>Recall 2</th>\n",
       "    </tr>\n",
       "  </thead>\n",
       "  <tbody>\n",
       "    <tr>\n",
       "      <th>mean</th>\n",
       "      <td>0.999827</td>\n",
       "      <td>0.467839</td>\n",
       "      <td>0.488037</td>\n",
       "      <td>0.471785</td>\n",
       "      <td>0.378751</td>\n",
       "      <td>0.400311</td>\n",
       "      <td>0.543726</td>\n",
       "      <td>0.531431</td>\n",
       "    </tr>\n",
       "    <tr>\n",
       "      <th>std</th>\n",
       "      <td>0.000064</td>\n",
       "      <td>0.002057</td>\n",
       "      <td>0.014247</td>\n",
       "      <td>0.004353</td>\n",
       "      <td>0.006467</td>\n",
       "      <td>0.006903</td>\n",
       "      <td>0.009900</td>\n",
       "      <td>0.006420</td>\n",
       "    </tr>\n",
       "  </tbody>\n",
       "</table>\n",
       "</div>"
      ],
      "text/plain": [
       "      Train acc  Test acc  Precision 0  Recall 0  Precision 1  Recall 1  \\\n",
       "mean   0.999827  0.467839     0.488037  0.471785     0.378751  0.400311   \n",
       "std    0.000064  0.002057     0.014247  0.004353     0.006467  0.006903   \n",
       "\n",
       "      Precision 2  Recall 2  \n",
       "mean     0.543726  0.531431  \n",
       "std      0.009900  0.006420  "
      ]
     },
     "execution_count": 195,
     "metadata": {},
     "output_type": "execute_result"
    }
   ],
   "source": [
    "r = classifier_results(cat_pr[\"FC5\"])\n",
    "(r.describe().iloc[1:3] * 100).round(2)"
   ]
  },
  {
   "cell_type": "code",
   "execution_count": 260,
   "id": "ff559223-5dc1-4a4d-a129-341ebd7a6851",
   "metadata": {},
   "outputs": [
    {
     "name": "stdout",
     "output_type": "stream",
     "text": [
      "Model  1  /  5\n",
      "Model  2  /  5\n",
      "Model  3  /  5\n",
      "Model  4  /  5\n",
      "Model  5  /  5\n"
     ]
    },
    {
     "data": {
      "text/html": [
       "<div>\n",
       "<style scoped>\n",
       "    .dataframe tbody tr th:only-of-type {\n",
       "        vertical-align: middle;\n",
       "    }\n",
       "\n",
       "    .dataframe tbody tr th {\n",
       "        vertical-align: top;\n",
       "    }\n",
       "\n",
       "    .dataframe thead th {\n",
       "        text-align: right;\n",
       "    }\n",
       "</style>\n",
       "<table border=\"1\" class=\"dataframe\">\n",
       "  <thead>\n",
       "    <tr style=\"text-align: right;\">\n",
       "      <th></th>\n",
       "      <th>Train acc</th>\n",
       "      <th>Test acc</th>\n",
       "      <th>Precision 0</th>\n",
       "      <th>Recall 0</th>\n",
       "      <th>Precision 1</th>\n",
       "      <th>Recall 1</th>\n",
       "      <th>Precision 2</th>\n",
       "      <th>Recall 2</th>\n",
       "      <th>Precision 3</th>\n",
       "      <th>Recall 3</th>\n",
       "    </tr>\n",
       "  </thead>\n",
       "  <tbody>\n",
       "    <tr>\n",
       "      <th>mean</th>\n",
       "      <td>99.98</td>\n",
       "      <td>42.12</td>\n",
       "      <td>22.97</td>\n",
       "      <td>38.77</td>\n",
       "      <td>30.98</td>\n",
       "      <td>36.09</td>\n",
       "      <td>52.83</td>\n",
       "      <td>39.93</td>\n",
       "      <td>51.25</td>\n",
       "      <td>52.86</td>\n",
       "    </tr>\n",
       "    <tr>\n",
       "      <th>std</th>\n",
       "      <td>0.00</td>\n",
       "      <td>1.02</td>\n",
       "      <td>1.85</td>\n",
       "      <td>3.92</td>\n",
       "      <td>3.48</td>\n",
       "      <td>1.43</td>\n",
       "      <td>4.46</td>\n",
       "      <td>1.38</td>\n",
       "      <td>1.41</td>\n",
       "      <td>2.88</td>\n",
       "    </tr>\n",
       "  </tbody>\n",
       "</table>\n",
       "</div>"
      ],
      "text/plain": [
       "      Train acc  Test acc  Precision 0  Recall 0  Precision 1  Recall 1  \\\n",
       "mean      99.98     42.12        22.97     38.77        30.98     36.09   \n",
       "std        0.00      1.02         1.85      3.92         3.48      1.43   \n",
       "\n",
       "      Precision 2  Recall 2  Precision 3  Recall 3  \n",
       "mean        52.83     39.93        51.25     52.86  \n",
       "std          4.46      1.38         1.41      2.88  "
      ]
     },
     "execution_count": 260,
     "metadata": {},
     "output_type": "execute_result"
    }
   ],
   "source": [
    "r = classifier_results(cat_pr[\"FC10\"], kfold = True)\n",
    "(r.describe().iloc[1:3] * 100).round(2)"
   ]
  },
  {
   "cell_type": "code",
   "execution_count": 261,
   "id": "0acf4e66-47c3-4817-bc9c-2317ef085de4",
   "metadata": {},
   "outputs": [
    {
     "name": "stdout",
     "output_type": "stream",
     "text": [
      "Model  1  /  5\n",
      "Model  2  /  5\n",
      "Model  3  /  5\n",
      "Model  4  /  5\n",
      "Model  5  /  5\n"
     ]
    }
   ],
   "source": [
    "r = classifier_results(cat_pr[\"sliding_window_12\"])\n"
   ]
  },
  {
   "cell_type": "code",
   "execution_count": 262,
   "id": "d7bd274c-d9ad-44f5-81bc-1ddfeaf466aa",
   "metadata": {},
   "outputs": [
    {
     "data": {
      "text/html": [
       "<div>\n",
       "<style scoped>\n",
       "    .dataframe tbody tr th:only-of-type {\n",
       "        vertical-align: middle;\n",
       "    }\n",
       "\n",
       "    .dataframe tbody tr th {\n",
       "        vertical-align: top;\n",
       "    }\n",
       "\n",
       "    .dataframe thead th {\n",
       "        text-align: right;\n",
       "    }\n",
       "</style>\n",
       "<table border=\"1\" class=\"dataframe\">\n",
       "  <thead>\n",
       "    <tr style=\"text-align: right;\">\n",
       "      <th></th>\n",
       "      <th>Train acc</th>\n",
       "      <th>Test acc</th>\n",
       "      <th>Precision 0</th>\n",
       "      <th>Recall 0</th>\n",
       "      <th>Precision 1</th>\n",
       "      <th>Recall 1</th>\n",
       "      <th>Precision 2</th>\n",
       "      <th>Recall 2</th>\n",
       "      <th>Precision 3</th>\n",
       "      <th>Recall 3</th>\n",
       "    </tr>\n",
       "  </thead>\n",
       "  <tbody>\n",
       "    <tr>\n",
       "      <th>mean</th>\n",
       "      <td>99.99</td>\n",
       "      <td>48.64</td>\n",
       "      <td>67.77</td>\n",
       "      <td>51.67</td>\n",
       "      <td>40.36</td>\n",
       "      <td>37.12</td>\n",
       "      <td>37.28</td>\n",
       "      <td>54.61</td>\n",
       "      <td>49.03</td>\n",
       "      <td>53.58</td>\n",
       "    </tr>\n",
       "    <tr>\n",
       "      <th>std</th>\n",
       "      <td>0.00</td>\n",
       "      <td>0.47</td>\n",
       "      <td>0.94</td>\n",
       "      <td>0.98</td>\n",
       "      <td>1.24</td>\n",
       "      <td>0.53</td>\n",
       "      <td>0.76</td>\n",
       "      <td>0.62</td>\n",
       "      <td>0.66</td>\n",
       "      <td>1.08</td>\n",
       "    </tr>\n",
       "  </tbody>\n",
       "</table>\n",
       "</div>"
      ],
      "text/plain": [
       "      Train acc  Test acc  Precision 0  Recall 0  Precision 1  Recall 1  \\\n",
       "mean      99.99     48.64        67.77     51.67        40.36     37.12   \n",
       "std        0.00      0.47         0.94      0.98         1.24      0.53   \n",
       "\n",
       "      Precision 2  Recall 2  Precision 3  Recall 3  \n",
       "mean        37.28     54.61        49.03     53.58  \n",
       "std          0.76      0.62         0.66      1.08  "
      ]
     },
     "execution_count": 262,
     "metadata": {},
     "output_type": "execute_result"
    }
   ],
   "source": [
    "(r.describe().iloc[1:3] * 100).round(2)"
   ]
  },
  {
   "cell_type": "code",
   "execution_count": 94,
   "id": "42c8b650-111c-41cc-9f53-b4a14d18c175",
   "metadata": {},
   "outputs": [
    {
     "data": {
      "text/plain": [
       "(array([11566.,     0.,     0., 11566.,     0.,     0., 11564.,     0.,\n",
       "            0., 11568.]),\n",
       " array([0. , 0.3, 0.6, 0.9, 1.2, 1.5, 1.8, 2.1, 2.4, 2.7, 3. ]),\n",
       " <BarContainer object of 10 artists>)"
      ]
     },
     "execution_count": 94,
     "metadata": {},
     "output_type": "execute_result"
    },
    {
     "data": {
      "image/png": "[encoded data removed]",
      "text/plain": [
       "<Figure size 432x288 with 1 Axes>"
      ]
     },
     "metadata": {
      "needs_background": "light"
     },
     "output_type": "display_data"
    }
   ],
   "source": [
    "plt.hist(cat_pr[\"sliding_window_12\"])"
   ]
  },
  {
   "cell_type": "code",
   "execution_count": 95,
   "id": "822fef4a-0d7c-470d-8bfd-58defc029de9",
   "metadata": {},
   "outputs": [
    {
     "data": {
      "text/plain": [
       "(array([ 7703.,     0.,     0., 11393.,     0.,     0., 15459.,     0.,\n",
       "            0., 11709.]),\n",
       " array([0. , 0.3, 0.6, 0.9, 1.2, 1.5, 1.8, 2.1, 2.4, 2.7, 3. ]),\n",
       " <BarContainer object of 10 artists>)"
      ]
     },
     "execution_count": 95,
     "metadata": {},
     "output_type": "execute_result"
    },
    {
     "data": {
      "image/png": "[encoded data removed]",
      "text/plain": [
       "<Figure size 432x288 with 1 Axes>"
      ]
     },
     "metadata": {
      "needs_background": "light"
     },
     "output_type": "display_data"
    }
   ],
   "source": [
    "plt.hist(cat_pr[\"FC10\"])"
   ]
  },
  {
   "cell_type": "code",
   "execution_count": 96,
   "id": "679a71c5-3c97-4cce-8e6f-5dcb5fcff5a8",
   "metadata": {},
   "outputs": [
    {
     "data": {
      "text/plain": [
       "(array([25198.,     0.,     0.,     0.,     0.,     0.,     0.,     0.,\n",
       "            0., 21066.]),\n",
       " array([2. , 2.1, 2.2, 2.3, 2.4, 2.5, 2.6, 2.7, 2.8, 2.9, 3. ]),\n",
       " <BarContainer object of 10 artists>)"
      ]
     },
     "execution_count": 96,
     "metadata": {},
     "output_type": "execute_result"
    },
    {
     "data": {
      "image/png": "[encoded data removed]",
      "text/plain": [
       "<Figure size 432x288 with 1 Axes>"
      ]
     },
     "metadata": {
      "needs_background": "light"
     },
     "output_type": "display_data"
    }
   ],
   "source": [
    "plt.hist(cat_pr[\"FC3\"])"
   ]
  },
  {
   "cell_type": "code",
   "execution_count": 26,
   "id": "127c02f5-45da-4fe2-933b-30897bc279cf",
   "metadata": {},
   "outputs": [
    {
     "name": "stdout",
     "output_type": "stream",
     "text": [
      "Accuracy:  0.7803314121037463\n",
      "Count Predicted:  [13133   732     9     6]\n",
      "Real Count:  [10804  2934   122    20]\n",
      "Accuracy Predicting Top class:  0.7783861671469741\n",
      "\n",
      "\n",
      "              precision    recall  f1-score   support\n",
      "\n",
      "           0       0.97      0.80      0.87     13133\n",
      "           1       0.12      0.48      0.19       732\n",
      "           2       0.07      0.89      0.12         9\n",
      "           3       0.15      0.50      0.23         6\n",
      "\n",
      "    accuracy                           0.78     13880\n",
      "   macro avg       0.33      0.67      0.36     13880\n",
      "weighted avg       0.92      0.78      0.84     13880\n",
      "\n",
      "\n",
      "\n",
      "<sklearn.metrics._plot.confusion_matrix.ConfusionMatrixDisplay object at 0x000002633E8B6B50>\n"
     ]
    },
    {
     "data": {
      "image/png": "[encoded data removed]",
      "text/plain": [
       "<Figure size 432x288 with 2 Axes>"
      ]
     },
     "metadata": {
      "needs_background": "light"
     },
     "output_type": "display_data"
    }
   ],
   "source": [
    "random_forest_classifier(df_inputs_2class, cat_pr[\"FC3 original\"])"
   ]
  },
  {
   "cell_type": "code",
   "execution_count": 28,
   "id": "1dc84fde-2aa1-4d88-9e0a-215880fa57e1",
   "metadata": {},
   "outputs": [
    {
     "name": "stdout",
     "output_type": "stream",
     "text": [
      "Accuracy:  0.5277377521613833\n",
      "Count Predicted:  [3301 9390  625  564]\n",
      "Real Count:  [4212 6600 1934 1134]\n",
      "Accuracy Predicting Top class:  0.4755043227665706\n",
      "\n",
      "\n",
      "              precision    recall  f1-score   support\n",
      "\n",
      "           0       0.42      0.53      0.47      3301\n",
      "           1       0.76      0.53      0.62      9390\n",
      "           2       0.13      0.39      0.19       625\n",
      "           3       0.29      0.58      0.39       564\n",
      "\n",
      "    accuracy                           0.53     13880\n",
      "   macro avg       0.40      0.51      0.42     13880\n",
      "weighted avg       0.63      0.53      0.56     13880\n",
      "\n",
      "\n",
      "\n",
      "<sklearn.metrics._plot.confusion_matrix.ConfusionMatrixDisplay object at 0x000002635DADBC10>\n"
     ]
    },
    {
     "data": {
      "image/png": "[encoded data removed]",
      "text/plain": [
       "<Figure size 432x288 with 2 Axes>"
      ]
     },
     "metadata": {
      "needs_background": "light"
     },
     "output_type": "display_data"
    }
   ],
   "source": [
    "random_forest_classifier(df_inputs_2class, cat_pr[\"FC10 original\"])"
   ]
  },
  {
   "cell_type": "code",
   "execution_count": 29,
   "id": "cd8a00e3-ac36-447d-b369-e3e984300d2e",
   "metadata": {},
   "outputs": [
    {
     "name": "stdout",
     "output_type": "stream",
     "text": [
      "Accuracy:  0.42586455331412104\n",
      "Count Predicted:  [1518 3010 5913 3439]\n",
      "Real Count:  [2310 3439 4678 3453]\n",
      "Accuracy Predicting Top class:  0.3370317002881844\n",
      "\n",
      "\n",
      "              precision    recall  f1-score   support\n",
      "\n",
      "           0       0.25      0.38      0.30      1518\n",
      "           1       0.31      0.36      0.33      3010\n",
      "           2       0.52      0.41      0.46      5913\n",
      "           3       0.53      0.53      0.53      3439\n",
      "\n",
      "    accuracy                           0.43     13880\n",
      "   macro avg       0.40      0.42      0.41     13880\n",
      "weighted avg       0.45      0.43      0.43     13880\n",
      "\n",
      "\n",
      "\n",
      "<sklearn.metrics._plot.confusion_matrix.ConfusionMatrixDisplay object at 0x00000263713C0A00>\n"
     ]
    },
    {
     "data": {
      "image/png": "[encoded data removed]",
      "text/plain": [
       "<Figure size 432x288 with 2 Axes>"
      ]
     },
     "metadata": {
      "needs_background": "light"
     },
     "output_type": "display_data"
    }
   ],
   "source": [
    "random_forest_classifier(df_inputs_2class, cat_pr[\"FC10\"])"
   ]
  },
  {
   "cell_type": "code",
   "execution_count": 27,
   "id": "2ad5a1aa-ba1b-4e4e-adad-85990fe97418",
   "metadata": {},
   "outputs": [
    {
     "name": "stdout",
     "output_type": "stream",
     "text": [
      "Accuracy:  0.4781700288184438\n",
      "Count Predicted:  [4478 3817 2489 3096]\n",
      "Real Count:  [3468 3434 3467 3511]\n",
      "Accuracy Predicting Top class:  0.25295389048991357\n",
      "\n",
      "\n",
      "              precision    recall  f1-score   support\n",
      "\n",
      "           0       0.66      0.51      0.58      4478\n",
      "           1       0.40      0.36      0.38      3817\n",
      "           2       0.39      0.54      0.45      2489\n",
      "           3       0.46      0.52      0.49      3096\n",
      "\n",
      "    accuracy                           0.48     13880\n",
      "   macro avg       0.48      0.48      0.47     13880\n",
      "weighted avg       0.50      0.48      0.48     13880\n",
      "\n",
      "\n",
      "\n",
      "<sklearn.metrics._plot.confusion_matrix.ConfusionMatrixDisplay object at 0x000002633F205070>\n"
     ]
    },
    {
     "data": {
      "image/png": "[encoded data removed]",
      "text/plain": [
       "<Figure size 432x288 with 2 Axes>"
      ]
     },
     "metadata": {
      "needs_background": "light"
     },
     "output_type": "display_data"
    }
   ],
   "source": [
    "random_forest_classifier(df_inputs_2class, cat_pr[\"sliding_window_12\"])"
   ]
  },
  {
   "cell_type": "code",
   "execution_count": 44,
   "id": "28e05b90-8e04-4cb7-be0a-9a02d2e54ec5",
   "metadata": {},
   "outputs": [],
   "source": [
    "accs = []\n",
    "for i in range(9):\n",
    "    accs.append(random_forest_classifier(df_inputs_2class, cat_pr[\"pagerank_order\" + str(i)], plot = False, acc = True))\n",
    "    \n",
    "accs.append(random_forest_classifier(df_inputs_2class, cat_pr[\"inlinks_all\"], plot = False, acc = True))\n",
    "accs.append(random_forest_classifier(df_inputs_2class, df_targets_2class[\"FC10_cat_quartiles\"], plot = False, acc = True))\n",
    "accs.append(random_forest_classifier(df_inputs_2class, cat_pr[\"sliding_window\"], plot = False, acc = True))"
   ]
  },
  {
   "cell_type": "code",
   "execution_count": 46,
   "id": "447c0710-0aca-4beb-b870-36266becb5c9",
   "metadata": {},
   "outputs": [
    {
     "data": {
      "text/plain": [
       "Text(0, 0.5, 'Accuracy')"
      ]
     },
     "execution_count": 46,
     "metadata": {},
     "output_type": "execute_result"
    },
    {
     "data": {
      "image/png": "[encoded data removed]",
      "text/plain": [
       "<Figure size 1080x360 with 1 Axes>"
      ]
     },
     "metadata": {
      "needs_background": "light"
     },
     "output_type": "display_data"
    }
   ],
   "source": [
    "_, ax = plt.subplots(1, figsize = (15, 5))\n",
    "\n",
    "labels = [str(i) for i in range(9)]\n",
    "labels += [\"inlinks_all\", \"FC10\", \"Sliding Window\"]\n",
    "\n",
    "ax.bar(labels, accs)\n",
    "ax.set_ylabel(\"Accuracy\")\n"
   ]
  },
  {
   "cell_type": "code",
   "execution_count": 74,
   "id": "2d9ddcf5-c848-499b-9d43-a550d382b7e3",
   "metadata": {},
   "outputs": [],
   "source": [
    "def get_bins(array):\n",
    "    return(10**np.linspace(np.log10(array.min()), np.log10(array.max()), 50))"
   ]
  },
  {
   "cell_type": "code",
   "execution_count": 76,
   "id": "bf2728df-3311-407b-9952-8ace220f6daf",
   "metadata": {},
   "outputs": [
    {
     "data": {
      "text/plain": [
       "Text(0, 0.5, 'Number of patents')"
      ]
     },
     "execution_count": 76,
     "metadata": {},
     "output_type": "execute_result"
    },
    {
     "data": {
      "image/png": "[encoded data removed]",
      "text/plain": [
       "<Figure size 720x864 with 4 Axes>"
      ]
     },
     "metadata": {
      "needs_background": "light"
     },
     "output_type": "display_data"
    }
   ],
   "source": [
    "_, ax = plt.subplots(2,2, figsize = (10, 12))\n",
    "\n",
    "ax[0][0].set_title(\"Predicted Pagerank Distribution for order 5\")\n",
    "ax[0][0].hist(pred_pr_o1, bins = get_bins(pred_pr_o1))\n",
    "ax[0][0].set_xscale(\"log\")\n",
    "ax[0][0].set_xlabel(\"Pagerank\")\n",
    "ax[0][0].set_ylabel(\"Number of patents\")\n",
    "\n",
    "ax[0][1].set_title(\"Real Validation PageRank Distribution\")\n",
    "ax[0][1].hist(y_val_pr_o1.numpy(), bins = get_bins(y_val_pr_o1))\n",
    "ax[0][1].set_xscale(\"log\")\n",
    "ax[0][1].set_xlabel(\"Pagerank\")\n",
    "ax[0][1].set_ylabel(\"Number of patents\")\n",
    "\n",
    "ax[1][0].set_title(\"Predicted Pagerank Distribution for order 5\")\n",
    "ax[1][0].hist(pred_pr, bins = get_bins(pred_pr))\n",
    "ax[1][0].set_xscale(\"log\")\n",
    "ax[1][0].set_xlabel(\"Pagerank\")\n",
    "ax[1][0].set_ylabel(\"Number of patents\")\n",
    "\n",
    "ax[1][1].set_title(\"Real Validation PageRank Distribution\")\n",
    "ax[1][1].hist(y_val_pr.numpy(), bins = get_bins(y_val_pr))\n",
    "ax[1][1].set_xscale(\"log\")\n",
    "ax[1][1].set_xlabel(\"Pagerank\")\n",
    "ax[1][1].set_ylabel(\"Number of patents\")"
   ]
  },
  {
   "cell_type": "code",
   "execution_count": 120,
   "id": "91bdad71-45c7-462c-8ae1-aeb80915fd9f",
   "metadata": {},
   "outputs": [
    {
     "data": {
      "text/plain": [
       "<matplotlib.legend.Legend at 0x1e81178d850>"
      ]
     },
     "execution_count": 120,
     "metadata": {},
     "output_type": "execute_result"
    },
    {
     "data": {
      "image/png": "[encoded data removed]",
      "text/plain": [
       "<Figure size 1080x360 with 3 Axes>"
      ]
     },
     "metadata": {
      "needs_background": "light"
     },
     "output_type": "display_data"
    }
   ],
   "source": [
    "_, ax = plt.subplots(1,3, figsize = (15, 5))\n",
    "np.random.seed(13) #13\n",
    "index = np.random.choice(len(pred_10), 100)\n",
    "\n",
    "ax[0].plot(pred_class[index], label = \"Predictions\")\n",
    "ax[0].plot(y_val_class[index], label = \"Validation\")\n",
    "ax[0].set_ylabel(\"Inlinks\")\n",
    "ax[0].set_title(\"Inlink Prediction\")\n",
    "\n",
    "ax[1].plot(pred_pr[index], label = \"Predictions\")\n",
    "ax[1].plot(y_val_pr[index], label = \"Validation\")\n",
    "ax[1].set_ylabel(\"PageRank\")\n",
    "ax[1].set_title(\"Order 1 Pagerank\")\n",
    "\n",
    "ax[2].plot(pred_pr_o1[index], label = \"Predictions\")\n",
    "ax[2].plot(y_val_pr_o1[index], label = \"Validation\")\n",
    "ax[2].set_ylabel(\"Inlinks\")\n",
    "ax[2].set_title(\"Order 5 Pagerank\")\n",
    "\n",
    "plt.legend()"
   ]
  },
  {
   "cell_type": "code",
   "execution_count": null,
   "id": "147e75a0-b4e9-423e-a17f-6a73f6bdf85c",
   "metadata": {},
   "outputs": [],
   "source": []
  },
  {
   "cell_type": "markdown",
   "id": "5b3b155b-d928-4893-8f34-a6963ecbd56b",
   "metadata": {},
   "source": [
    "## Same neural net"
   ]
  },
  {
   "cell_type": "code",
   "execution_count": 210,
   "id": "9dfdff56-c7a6-4907-ad0a-c4d13aa2d661",
   "metadata": {},
   "outputs": [],
   "source": [
    "import torch.optim as optim\n",
    "import torch.nn as nn\n",
    "import torch.nn.functional as F\n",
    "\n",
    "\n",
    "class BaselineModel(nn.Module):\n",
    "    def __init__(self, input_size, hidden_size, out_size):\n",
    "        super(BaselineModel, self).__init__()\n",
    "        self.fc1 = nn.Linear(input_size, hidden_size) \n",
    "        self.fc2 = nn.Linear(hidden_size, hidden_size)\n",
    "        self.fc3 = nn.Linear(hidden_size, out_size)\n",
    "\n",
    "    def forward(self, x):\n",
    "        out = self.fc1(x)\n",
    "        out = torch.sigmoid(out)\n",
    "        out = self.fc2(out)    \n",
    "        out = torch.sigmoid(out)\n",
    "        out = self.fc3(out)\n",
    "#         out = F.softmax(out)\n",
    "        if not self.training:\n",
    "            out = F.softmax(out, dim=1)\n",
    "        return out\n",
    "\n"
   ]
  },
  {
   "cell_type": "code",
   "execution_count": 211,
   "id": "49e4a5a9-fde6-4b83-9de8-b63dcecd46ce",
   "metadata": {},
   "outputs": [
    {
     "data": {
      "text/plain": [
       "tensor([0, 1, 2, 3])"
      ]
     },
     "execution_count": 211,
     "metadata": {},
     "output_type": "execute_result"
    }
   ],
   "source": [
    "torch.unique(y_train)"
   ]
  },
  {
   "cell_type": "code",
   "execution_count": 3,
   "id": "4f3890be-e83d-40d8-a9da-771c9af0f6d9",
   "metadata": {},
   "outputs": [],
   "source": [
    "model = BaselineModel(X_train.shape[1], 100, len(torch.unique(y_train)))\n",
    "\n",
    "loss_function = nn.CrossEntropyLoss() #includes softmax\n",
    "optimiser = optim.SGD(model.parameters(), lr=0.001, momentum=0.9)\n",
    "\n",
    "train_metrics = []\n",
    "loss_eval = []\n",
    "# the epoch loop\n",
    "for epoch in range(100):\n",
    "    inputs, labels = X_train, y_train\n",
    "\n",
    "    # zero the parameter gradients\n",
    "    optimiser.zero_grad()\n",
    "    outputs = model(inputs)\n",
    "    loss = loss_function(outputs, labels)\n",
    "    loss.backward()\n",
    "    optimiser.step()\n",
    "\n",
    "    outputs = outputs.detach().numpy()\n",
    "#     print(set(outputs.argmax(axis = 1)))\n",
    "    train_metrics.append((loss.item(), accuracy_score(labels, outputs.argmax(axis = 1))))\n",
    "    \n",
    "    model.eval()\n",
    "\n",
    "    val_inputs, val_labels = X_val, y_val\n",
    "\n",
    "    outputs = model(val_inputs)\n",
    "    outputs = outputs.detach().numpy()\n",
    "\n",
    "    loss_eval.append(accuracy_score(val_labels, outputs.argmax(axis = 1)))\n",
    "    if epoch %1==0:\n",
    "        print(\"Epoch %d, train loss %4.2f\" % (epoch, loss.item()))\n",
    "print('**** Finished Training ****')\n",
    "\n"
   ]
  },
  {
   "cell_type": "code",
   "execution_count": 213,
   "id": "f24d4149-8763-46c8-9db5-22344b18e537",
   "metadata": {},
   "outputs": [],
   "source": [
    "train_metrics = np.asarray(train_metrics)"
   ]
  },
  {
   "cell_type": "code",
   "execution_count": 215,
   "id": "e0de2929-9450-4b0f-80ec-b907ed583506",
   "metadata": {},
   "outputs": [
    {
     "data": {
      "text/plain": [
       "Text(0, 0.5, 'Training Cross Entropy Loss')"
      ]
     },
     "execution_count": 215,
     "metadata": {},
     "output_type": "execute_result"
    },
    {
     "data": {
      "image/png": "[encoded data removed]",
      "text/plain": [
       "<Figure size 432x288 with 1 Axes>"
      ]
     },
     "metadata": {
      "needs_background": "light"
     },
     "output_type": "display_data"
    }
   ],
   "source": [
    "plt.plot(train_metrics[:, 0])\n",
    "plt.xlabel(\"Epoch\")\n",
    "plt.ylabel(\"Training Cross Entropy Loss\")"
   ]
  },
  {
   "cell_type": "code",
   "execution_count": 216,
   "id": "15957e1e-a582-4d11-9149-20b1ba378aa0",
   "metadata": {},
   "outputs": [
    {
     "data": {
      "text/plain": [
       "Text(0, 0.5, 'Training Accuracy')"
      ]
     },
     "execution_count": 216,
     "metadata": {},
     "output_type": "execute_result"
    },
    {
     "data": {
      "image/png": "[encoded data removed]",
      "text/plain": [
       "<Figure size 432x288 with 1 Axes>"
      ]
     },
     "metadata": {
      "needs_background": "light"
     },
     "output_type": "display_data"
    }
   ],
   "source": [
    "plt.plot(train_metrics[:, 1])\n",
    "plt.xlabel(\"Epoch\")\n",
    "plt.ylabel(\"Training Accuracy\")"
   ]
  },
  {
   "cell_type": "code",
   "execution_count": 217,
   "id": "45332360-f2fc-4984-b3ec-d8a541bac8c9",
   "metadata": {},
   "outputs": [
    {
     "data": {
      "text/plain": [
       "Text(0, 0.5, 'Test Accuracy')"
      ]
     },
     "execution_count": 217,
     "metadata": {},
     "output_type": "execute_result"
    },
    {
     "data": {
      "image/png": "[encoded data removed]",
      "text/plain": [
       "<Figure size 432x288 with 1 Axes>"
      ]
     },
     "metadata": {
      "needs_background": "light"
     },
     "output_type": "display_data"
    }
   ],
   "source": [
    "plt.plot(loss_eval)\n",
    "plt.xlabel(\"Epoch\")\n",
    "plt.ylabel(\"Test Accuracy\")"
   ]
  },
  {
   "cell_type": "code",
   "execution_count": 218,
   "id": "be11cb0d-18a2-4ef3-8b39-f73de9c1ab9b",
   "metadata": {},
   "outputs": [],
   "source": [
    "model.eval()\n",
    "outputs = model(X_val)"
   ]
  },
  {
   "cell_type": "code",
   "execution_count": 222,
   "id": "47dd0e9c-568c-42fa-8f5f-fda50e97fa86",
   "metadata": {},
   "outputs": [],
   "source": [
    "preds = outputs.argmax(axis = 1).numpy()"
   ]
  },
  {
   "cell_type": "code",
   "execution_count": 225,
   "id": "519de44c-95e2-451b-91ca-0afaf074dc63",
   "metadata": {},
   "outputs": [
    {
     "data": {
      "text/plain": [
       "((1401,), torch.Size([1401]))"
      ]
     },
     "execution_count": 225,
     "metadata": {},
     "output_type": "execute_result"
    }
   ],
   "source": [
    "preds.shape, y_val.shape"
   ]
  },
  {
   "cell_type": "code",
   "execution_count": 226,
   "id": "40689ffd-d5c0-4562-aa03-c4fc604ec12d",
   "metadata": {},
   "outputs": [
    {
     "data": {
      "text/plain": [
       "{0}"
      ]
     },
     "execution_count": 226,
     "metadata": {},
     "output_type": "execute_result"
    }
   ],
   "source": [
    "set(preds) # predicts all zeros"
   ]
  },
  {
   "cell_type": "markdown",
   "id": "d6e5e510-a95a-4c37-b08e-c676b1cf151f",
   "metadata": {},
   "source": [
    "# TorchBearer"
   ]
  },
  {
   "cell_type": "code",
   "execution_count": 187,
   "id": "58ff0c7a-aaaf-47e9-a14b-da0f3c21b92d",
   "metadata": {},
   "outputs": [],
   "source": [
    "model = BaselineModel(X_train.shape[1], 100, len(torch.unique(y_train)))\n",
    "\n",
    "loss_function = nn.CrossEntropyLoss() #includes softmax\n",
    "optimiser = optim.SGD(model.parameters(), lr=0.001, momentum=0.9)\n",
    "\n",
    "trial = torchbearer.Trial(model, optimiser, loss_function, metrics=['loss', 'accuracy', \"cat_acc\"])\n"
   ]
  },
  {
   "cell_type": "code",
   "execution_count": 188,
   "id": "22344dc5-26cd-42b4-8f18-8d01a6532bf6",
   "metadata": {},
   "outputs": [],
   "source": [
    "trial.with_data(X_train, y_train, x_val=X_val, y_val=y_val, x_test=X_test)#, X_test, y_test)"
   ]
  },
  {
   "cell_type": "code",
   "execution_count": 214,
   "id": "446443da-20da-426f-9751-06139f7c24f1",
   "metadata": {},
   "outputs": [],
   "source": [
    "def get_stuff(inp, list_dics):\n",
    "    return([i[inp] for i in list_dics])"
   ]
  },
  {
   "cell_type": "code",
   "execution_count": 218,
   "id": "be245b4b-52c8-4ab6-9541-6b53a4505b95",
   "metadata": {},
   "outputs": [
    {
     "data": {
      "text/plain": [
       "dict_keys(['running_loss', 'running_acc', 'loss', 'acc', 'val_loss', 'val_acc', 'train_steps', 'validation_steps'])"
      ]
     },
     "execution_count": 218,
     "metadata": {},
     "output_type": "execute_result"
    }
   ],
   "source": [
    "train_hist[0].keys()"
   ]
  },
  {
   "cell_type": "code",
   "execution_count": 220,
   "id": "61f88ac2-27a9-48fc-aee3-e55498aefdfe",
   "metadata": {
    "tags": []
   },
   "outputs": [
    {
     "data": {
      "text/plain": [
       "[<matplotlib.lines.Line2D at 0x2afa2994f10>]"
      ]
     },
     "execution_count": 220,
     "metadata": {},
     "output_type": "execute_result"
    },
    {
     "data": {
      "image/png": "[encoded data removed]",
      "text/plain": [
       "<Figure size 432x288 with 1 Axes>"
      ]
     },
     "metadata": {
      "needs_background": "light"
     },
     "output_type": "display_data"
    }
   ],
   "source": [
    "plt.plot(get_stuff(\"loss\", train_hist))"
   ]
  },
  {
   "cell_type": "code",
   "execution_count": 221,
   "id": "11ea343e-057a-40c1-9e33-d72d7b37fc73",
   "metadata": {
    "tags": []
   },
   "outputs": [
    {
     "data": {
      "text/plain": [
       "[<matplotlib.lines.Line2D at 0x2afa2abfb20>]"
      ]
     },
     "execution_count": 221,
     "metadata": {},
     "output_type": "execute_result"
    },
    {
     "data": {
      "image/png": "[encoded data removed]",
      "text/plain": [
       "<Figure size 432x288 with 1 Axes>"
      ]
     },
     "metadata": {
      "needs_background": "light"
     },
     "output_type": "display_data"
    }
   ],
   "source": [
    "plt.plot(get_stuff(\"acc\", train_hist))"
   ]
  },
  {
   "cell_type": "markdown",
   "id": "04db26cb-382c-48e2-8683-ae9dc10441d3",
   "metadata": {},
   "source": [
    "## SVMs"
   ]
  },
  {
   "cell_type": "code",
   "execution_count": 227,
   "id": "415a00c1-5ddb-4c05-8c78-dbc257975870",
   "metadata": {},
   "outputs": [
    {
     "data": {
      "text/plain": [
       "SVC()"
      ]
     },
     "execution_count": 227,
     "metadata": {},
     "output_type": "execute_result"
    }
   ],
   "source": [
    "from sklearn import svm\n",
    "clf = svm.SVC()\n",
    "clf.fit(X_train, y_train)"
   ]
  },
  {
   "cell_type": "code",
   "execution_count": 228,
   "id": "5462b4a8-8b3b-4c81-98ea-59ad1a9ba6fd",
   "metadata": {},
   "outputs": [],
   "source": [
    "pred = clf.predict(X_val)"
   ]
  },
  {
   "cell_type": "code",
   "execution_count": 234,
   "id": "fa34edbb-e263-4bfd-a2f7-ee6a398a00ce",
   "metadata": {},
   "outputs": [
    {
     "data": {
      "text/plain": [
       "0.715203426124197"
      ]
     },
     "execution_count": 234,
     "metadata": {},
     "output_type": "execute_result"
    }
   ],
   "source": [
    "(pred == y_val.numpy()).sum()/len(X_val)"
   ]
  },
  {
   "cell_type": "code",
   "execution_count": null,
   "id": "98679a29-633b-4ee9-bcf6-04e4e9eeb8ef",
   "metadata": {},
   "outputs": [],
   "source": []
  }
 ],
 "metadata": {
  "kernelspec": {
   "display_name": "Python 3",
   "language": "python",
   "name": "python3"
  },
  "language_info": {
   "codemirror_mode": {
    "name": "ipython",
    "version": 3
   },
   "file_extension": ".py",
   "mimetype": "text/x-python",
   "name": "python",
   "nbconvert_exporter": "python",
   "pygments_lexer": "ipython3",
   "version": "3.8.8"
  }
 },
 "nbformat": 4,
 "nbformat_minor": 5
}
