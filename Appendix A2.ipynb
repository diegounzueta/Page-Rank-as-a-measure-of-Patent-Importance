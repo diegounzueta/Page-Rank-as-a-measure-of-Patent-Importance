{
 "cells": [
  {
   "cell_type": "markdown",
   "id": "026f0320-5c1f-4686-b49a-39ce74fceda3",
   "metadata": {},
   "source": [
    "# Feature exctaction "
   ]
  },
  {
   "cell_type": "code",
   "execution_count": 1,
   "id": "8a3f8cb4-4667-4d56-a3ee-7a8677a7a288",
   "metadata": {},
   "outputs": [],
   "source": [
    "import pandas as pd\n",
    "import csv\n",
    "from datetime import datetime, timedelta\n",
    "from datetime import date\n",
    "import matplotlib.pyplot as plt\n",
    "import numpy as np\n",
    "import datetime\n"
   ]
  },
  {
   "cell_type": "code",
   "execution_count": 3,
   "id": "733369c0-5916-41ca-b78c-d3222358cac7",
   "metadata": {},
   "outputs": [
    {
     "name": "stderr",
     "output_type": "stream",
     "text": [
      "C:\\Users\\DIEGO UNZUETA\\anaconda3\\lib\\site-packages\\IPython\\core\\interactiveshell.py:3165: DtypeWarning: Columns (0,4) have mixed types.Specify dtype option on import or set low_memory=False.\n",
      "  has_raised = await self.run_ast_nodes(code_ast.body, cell_name,\n"
     ]
    }
   ],
   "source": [
    "df = pd.read_csv(\"data/basicbib.tab\",  sep='\\t') # main dataframe with all the patents\n",
    "df[\"n_fcites\"] = df[\"n_fcites\"].fillna(0)"
   ]
  },
  {
   "cell_type": "code",
   "execution_count": 7,
   "id": "4ba9ec6b-19ae-4eab-a6b0-633f6dd73f10",
   "metadata": {},
   "outputs": [],
   "source": [
    "df_melt = pd.read_csv(\"data/df_424_melt.csv\") #data with melted citations\n",
    "df_2class = pd.read_csv(\"data/df_2class.csv\") #"
   ]
  },
  {
   "cell_type": "code",
   "execution_count": 8,
   "id": "9c1b054f-516d-4d5f-9af8-1df3fb98f517",
   "metadata": {},
   "outputs": [],
   "source": [
    "df_melt_all = pd.read_csv(\"data/df_424_melt_all.csv\")"
   ]
  },
  {
   "cell_type": "code",
   "execution_count": 9,
   "id": "ed0d922e-ba2f-4756-9fab-5428d8673da3",
   "metadata": {},
   "outputs": [],
   "source": [
    "df_2class[\"issuedate\"] = pd.to_datetime(df_2class[\"issuedate\"])\n",
    "df[\"issuedate\"] = pd.to_datetime(df[\"issuedate\"]).dt.date\n"
   ]
  },
  {
   "cell_type": "markdown",
   "id": "c8ad548e-6c7e-4989-8f13-6721cd934cb2",
   "metadata": {},
   "source": [
    "## Novelty"
   ]
  },
  {
   "cell_type": "markdown",
   "id": "22afd1bb-4028-45e8-a89d-f9bf3c81fa10",
   "metadata": {},
   "source": [
    "### Herfindahl index of classes of cited patents"
   ]
  },
  {
   "cell_type": "code",
   "execution_count": 25,
   "id": "91d21f31-3c78-4b3d-80b2-b08bffd46c2f",
   "metadata": {},
   "outputs": [],
   "source": [
    "\n",
    "def herfindahl_index(series):\n",
    "    \"\"\"\n",
    "    Herfindahl index of array\n",
    "    \"\"\"\n",
    "    _, cnt = np.unique(series, return_counts=True)\n",
    "    return np.square(cnt/cnt.sum()).sum()    \n"
   ]
  },
  {
   "cell_type": "code",
   "execution_count": 30,
   "id": "c559f91e-5a82-4f85-9002-8489d4d0de60",
   "metadata": {},
   "outputs": [],
   "source": [
    "def get_herfindahl_features(dataset):\n",
    "    \"\"\"\n",
    "    Takes in dataset, adds a herfindahl index column for the class and the subclass of cited patents\n",
    "    \"\"\"\n",
    "    bot_index = 0\n",
    "    herfindahl_class = []\n",
    "    herfindahl_subclass = []\n",
    "    l = dataset.shape[0]\n",
    "\n",
    "    for p_number, (patent, bcites) in enumerate(dataset[[\"patent\", \"n_bcites\"]].values):\n",
    "    #     print(\"loop\")\n",
    "\n",
    "        top_index = bot_index + bcites\n",
    "\n",
    "        cited = df_melt[bot_index:top_index][\"cited\"].values\n",
    "        classes = df.loc[df[\"patent\"].isin(cited)][[\"class\", \"subclass\"]].values\n",
    "        subclasses = classes[np.where(classes[:, 0].astype(int) == 424)][:, 1]\n",
    "\n",
    "        herfindahl_class.append(herfindahl_index(classes[:, 0]))\n",
    "        herfindahl_subclass.append(herfindahl_index(subclasses))\n",
    "\n",
    "        bot_index = top_index\n",
    "\n",
    "        if p_number % 1000 == 0:\n",
    "            print(p_number, \"/\", l)\n",
    "    dataset[\"herfindahl_cited_class\"] = herfindahl_class\n",
    "    dataset[\"herfindahl_cited_424subclass\"] = herfindahl_subclass\n",
    "    notify.send('Herfindahl Index ') \n",
    "    return(dataset)"
   ]
  },
  {
   "cell_type": "code",
   "execution_count": 1,
   "id": "6e36f528-b38c-4d74-bc30-41da576c1497",
   "metadata": {},
   "outputs": [],
   "source": [
    "df_2class = get_herfindahl_features(df_2class)"
   ]
  },
  {
   "cell_type": "markdown",
   "id": "14d046eb-9f1e-40d2-92e8-e0ad82ee80e0",
   "metadata": {},
   "source": [
    "### Herfindahl index on mainline subclasses of cited patents"
   ]
  },
  {
   "cell_type": "code",
   "execution_count": 42,
   "id": "dcb57286-527b-48bc-a481-8431e85114ee",
   "metadata": {},
   "outputs": [
    {
     "data": {
      "text/plain": [
       "0        0.722222\n",
       "1        1.000000\n",
       "2        0.142857\n",
       "3        0.555556\n",
       "4        0.000000\n",
       "           ...   \n",
       "46259    0.000000\n",
       "46260    0.000000\n",
       "46261    0.000000\n",
       "46262    1.000000\n",
       "46263    0.000000\n",
       "Name: herfindahl_cited_424subclass, Length: 46264, dtype: float64"
      ]
     },
     "execution_count": 42,
     "metadata": {},
     "output_type": "execute_result"
    }
   ],
   "source": [
    "df_2class[\"herfindahl_cited_424subclass\"]"
   ]
  },
  {
   "cell_type": "markdown",
   "id": "763f54b3-6f33-48fe-8467-d2bafd6021df",
   "metadata": {},
   "source": [
    "### 1.3 Number of backward citations"
   ]
  },
  {
   "cell_type": "code",
   "execution_count": 43,
   "id": "88e06c04-11e3-48ea-b3b4-c52dc1971578",
   "metadata": {},
   "outputs": [
    {
     "data": {
      "text/plain": [
       "0        14\n",
       "1         1\n",
       "2        10\n",
       "3         3\n",
       "4         0\n",
       "         ..\n",
       "46259     4\n",
       "46260     4\n",
       "46261     6\n",
       "46262     3\n",
       "46263     2\n",
       "Name: n_bcites, Length: 46264, dtype: int64"
      ]
     },
     "execution_count": 43,
     "metadata": {},
     "output_type": "execute_result"
    }
   ],
   "source": [
    "df_2class[\"n_bcites\"]"
   ]
  },
  {
   "cell_type": "markdown",
   "id": "f70bf364-e5db-4a3d-9951-faf46baacfe4",
   "metadata": {},
   "source": [
    "## 2. Science-intensity"
   ]
  },
  {
   "cell_type": "markdown",
   "id": "a8bd4576-8c4d-4019-ab6e-28acd3097919",
   "metadata": {},
   "source": [
    "### 2.1 Number of non-patent literature references"
   ]
  },
  {
   "cell_type": "code",
   "execution_count": 36,
   "id": "74675545-e3f0-4ee0-bf1c-ad5fd6d8bbee",
   "metadata": {},
   "outputs": [
    {
     "data": {
      "text/plain": [
       "0         8\n",
       "1         0\n",
       "2         0\n",
       "3         0\n",
       "4         1\n",
       "         ..\n",
       "17505     0\n",
       "17506     2\n",
       "17507    23\n",
       "17508    15\n",
       "17509    63\n",
       "Name: n_nplcites, Length: 17510, dtype: int64"
      ]
     },
     "execution_count": 36,
     "metadata": {},
     "output_type": "execute_result"
    }
   ],
   "source": [
    "df_424[\"n_nplcites\"]"
   ]
  },
  {
   "cell_type": "markdown",
   "id": "9501864f-1f21-442f-8903-485973482fe5",
   "metadata": {},
   "source": [
    "## Growth speed"
   ]
  },
  {
   "cell_type": "markdown",
   "id": "c1f64f22-d625-4f8c-9be4-380227b31afc",
   "metadata": {},
   "source": [
    "### Median age of cited patents"
   ]
  },
  {
   "cell_type": "code",
   "execution_count": 45,
   "id": "9483ddec-fce3-4212-be59-28383d157ba6",
   "metadata": {
    "tags": []
   },
   "outputs": [],
   "source": [
    "def get_median_age(dataset):\n",
    "    \n",
    "    \"\"\" Median age of cited patents \"\"\"\n",
    "    \n",
    "    bot_index = 0\n",
    "    medians = []\n",
    "    n = dataset.shape[0]\n",
    "    for p_number, (patent, bcites) in enumerate(dataset[[\"patent\", \"n_bcites\"]].values):\n",
    "    #     print(\"loop\")\n",
    "\n",
    "        top_index = bot_index + bcites #we only check the current patent cites\n",
    "        cited = df_melt[bot_index:top_index][\"cited\"].values\n",
    "\n",
    "        dates = df.loc[df[\"patent\"].isin(cited)][\"issuedate\"].values #we grab the dates of the citations \n",
    "\n",
    "        if len(dates) != 0: #if we find dates of citations\n",
    "            medians.append(dates[len(dates)//2]) #take the median\n",
    "\n",
    "        else:\n",
    "    #         print(\"zero\")\n",
    "            medians.append(np.nan)#otherwise we add nan \n",
    "        bot_index = top_index\n",
    "\n",
    "        if p_number % 1000 == 0:\n",
    "            print(p_number, \"/\", n)\n",
    "            \n",
    "    dataset[\"median_age_cited\"] = medians\n",
    "    \n",
    "    notify.send('Median Age ') \n",
    "    return(dataset)"
   ]
  },
  {
   "cell_type": "code",
   "execution_count": 2,
   "id": "e7aa123b-9466-428f-97ee-61528b5a0ecc",
   "metadata": {},
   "outputs": [],
   "source": [
    "df_2class = get_median_age(df_2class)"
   ]
  },
  {
   "cell_type": "code",
   "execution_count": 55,
   "id": "fb078684-a56e-4a9c-9f1e-3c7bba03240b",
   "metadata": {},
   "outputs": [
    {
     "name": "stdout",
     "output_type": "stream",
     "text": [
      "Missing val %:  15.606 /100\n"
     ]
    }
   ],
   "source": [
    "# 15% missing values \n",
    "print(\"Missing val %: \", round(df_2class[\"median_age_cited\"].isna().sum()/len(df_2class)*100, 3), \"/100\")"
   ]
  },
  {
   "cell_type": "markdown",
   "id": "183abff9-75a5-4824-8442-2c8007d4a46a",
   "metadata": {},
   "source": [
    "## Scope and Coverage"
   ]
  },
  {
   "cell_type": "markdown",
   "id": "a72f972b-0d0e-492b-bdba-f66e61d8fe17",
   "metadata": {},
   "source": [
    "### Main class which patent belongs to"
   ]
  },
  {
   "cell_type": "markdown",
   "id": "e4ef142d-bff7-412c-9e96-e90e29ab3be9",
   "metadata": {},
   "source": [
    "### Number of classes to which the patent belongs"
   ]
  },
  {
   "cell_type": "markdown",
   "id": "7dd1ff87-3294-44a5-b553-29bc694a25d4",
   "metadata": {},
   "source": [
    "### Number of patents registered in multiple countries with the couverage of the same invention"
   ]
  },
  {
   "cell_type": "markdown",
   "id": "997846c9-9bbe-44e2-8ed4-ae21fa1f0686",
   "metadata": {},
   "source": [
    "### Number of independent/dependent claims"
   ]
  },
  {
   "cell_type": "code",
   "execution_count": 63,
   "id": "93575d8f-aaa5-4189-8240-1632dd403888",
   "metadata": {},
   "outputs": [
    {
     "data": {
      "text/plain": [
       "0        46.0\n",
       "1         1.0\n",
       "2         8.0\n",
       "3        20.0\n",
       "4        14.0\n",
       "         ... \n",
       "17505    10.0\n",
       "17506    22.0\n",
       "17507    21.0\n",
       "17508    18.0\n",
       "17509    16.0\n",
       "Name: n_claims, Length: 17510, dtype: float64"
      ]
     },
     "execution_count": 63,
     "metadata": {},
     "output_type": "execute_result"
    }
   ],
   "source": [
    "df_424[\"n_claims\"]"
   ]
  },
  {
   "cell_type": "markdown",
   "id": "633b3d7d-bf99-4f76-b3ec-e6964860980d",
   "metadata": {},
   "source": [
    "## Development effort and capabilities"
   ]
  },
  {
   "cell_type": "markdown",
   "id": "f721ff44-92ab-493f-9387-507364217ba6",
   "metadata": {},
   "source": [
    "### Assignee"
   ]
  },
  {
   "cell_type": "markdown",
   "id": "eb5a9020-c930-48b3-a3f6-46a5197895d7",
   "metadata": {},
   "source": [
    "Assignee type:\n",
    "\n",
    "- 1: Unassigned\n",
    "- 2: US Non-govt organisation\n",
    "- 3: Foreign non-govt organisation\n",
    "- 4: US Individual\n",
    "- 5: Forgein Individual\n",
    "- 6: US Federal Govt \n",
    "- 7: Foreign Govt"
   ]
  },
  {
   "cell_type": "code",
   "execution_count": 66,
   "id": "172c2094-692a-499f-8f98-8f4805cc0600",
   "metadata": {},
   "outputs": [],
   "source": [
    "df_2class = pd.get_dummies(df_2class, columns = [\"asstype\"])"
   ]
  },
  {
   "cell_type": "code",
   "execution_count": null,
   "id": "e50efe8e-6e6c-41a6-8e81-1d2b63a714aa",
   "metadata": {},
   "outputs": [],
   "source": [
    "df_2class = pd.get_dummies(df_2class, columns = [\"class\"])"
   ]
  },
  {
   "cell_type": "markdown",
   "id": "e29cc820-d096-487d-b722-2954c920c652",
   "metadata": {},
   "source": [
    "### Number of investors"
   ]
  },
  {
   "cell_type": "markdown",
   "id": "5eb8cf88-066e-43c7-942f-4c1fbeeaaea6",
   "metadata": {},
   "source": [
    "### Number of patents issued by assignee (entire dataset)"
   ]
  },
  {
   "cell_type": "code",
   "execution_count": 74,
   "id": "4411b9a1-6cfb-445f-ba11-9e7a46960680",
   "metadata": {},
   "outputs": [],
   "source": [
    "df_2class[\"issuedate\"] = pd.to_datetime(df_2class[\"issuedate\"],errors='coerce').dt.date"
   ]
  },
  {
   "cell_type": "code",
   "execution_count": 79,
   "id": "babf7b1d-b5c5-4487-8a2f-7d397d97acd9",
   "metadata": {
    "tags": []
   },
   "outputs": [],
   "source": [
    "def get_countbyassignee(dataset):\n",
    "    week_delta = datetime.timedelta(days=7)\n",
    "    count_by_assignee = np.zeros(len(dataset))\n",
    "    cap = date.fromisocalendar(1990, 1,1)\n",
    "\n",
    "    c = 0 #index of each patent (up to len(df_424))\n",
    "\n",
    "    # Random sanity check, more of these were performed throughout the code, most are removed \n",
    "    check = [] #counts of a random patant\n",
    "    check2 = [] #indexes of a random patent\n",
    "\n",
    "    for week in range(523):\n",
    "\n",
    "        counts = df.loc[df[\"issuedate\"] < cap][\"assignee\"].value_counts()\n",
    "\n",
    "        df_week = dataset.loc[dataset[\"issuedate\"] < cap].iloc[c:]\n",
    "\n",
    "        for assignee in df_week[\"assignee\"]:\n",
    "\n",
    "            if dataset[\"assignee\"][c] != assignee:\n",
    "                print(\"ERROR: \", assignee, c)\n",
    "\n",
    "            if (assignee in counts) & (assignee != 0):\n",
    "                if assignee == 346250:\n",
    "                    check.append(counts[assignee])\n",
    "                    check2.append(c)          \n",
    "\n",
    "                count_by_assignee[c] = counts[assignee]\n",
    "\n",
    "            elif assignee == 0:\n",
    "                count_by_assignee[c] = np.nan\n",
    "            else:\n",
    "                count_by_assignee[c] = 0\n",
    "\n",
    "            c += 1\n",
    "\n",
    "        if week % 50 == 0:\n",
    "            print(week, \"/ 521\")\n",
    "            \n",
    "        cap += week_delta\n",
    "        \n",
    "    dataset[\"count_by_assignee_all\"] = count_by_assignee\n",
    "      \n",
    "    notify.send('Counts by Assignee ') \n",
    "    return(dataset)"
   ]
  },
  {
   "cell_type": "code",
   "execution_count": 3,
   "id": "838e242f-5b44-48cc-abd7-abb486964b9f",
   "metadata": {},
   "outputs": [],
   "source": [
    "df_2class = get_countbyassignee(df_2class)"
   ]
  },
  {
   "cell_type": "markdown",
   "id": "89e7d001-55c9-4752-9367-2842df804655",
   "metadata": {},
   "source": [
    "### Number of patents in a technology field of interest issued by an assignee"
   ]
  },
  {
   "cell_type": "code",
   "execution_count": 84,
   "id": "be045284-be95-4b13-b9ca-66ead309a447",
   "metadata": {},
   "outputs": [],
   "source": [
    "df_424_all = df.loc[(df[\"class\"] == 424) | (df[\"class\"] == \"424\")]\n",
    "df_514_all = df.loc[(df[\"class\"] == 514) | (df[\"class\"] == \"514\")]"
   ]
  },
  {
   "cell_type": "code",
   "execution_count": 87,
   "id": "72d6a08b-dc88-4303-8d49-f00dbe4f2af2",
   "metadata": {},
   "outputs": [],
   "source": [
    "def get_patentclass(dataset, dataset_all):\n",
    "    \n",
    "    \"\"\"\n",
    "    Number of patents by assigneein class 424 or 514\n",
    "    \"\"\"\n",
    "    \n",
    "    week_delta = datetime.timedelta(days=7)\n",
    "    count_by_assignee_424 = np.zeros(len(dataset))\n",
    "    cap = date.fromisocalendar(1990, 1,1)\n",
    "\n",
    "    c = 0 #index of each patent (up to len(df_424))\n",
    "\n",
    "    for week in range(523):\n",
    "\n",
    "        counts = dataset_all.loc[dataset_all[\"issuedate\"] < cap][\"assignee\"].value_counts()\n",
    "\n",
    "        cap += week_delta # we add the week after we take the counts so that the value of that patent is not included \n",
    "\n",
    "        df_week = dataset.loc[dataset[\"issuedate\"] < cap].iloc[c:]\n",
    "\n",
    "        for assignee in df_week[\"assignee\"]:\n",
    "\n",
    "            if (assignee in counts) & (assignee != 0):             \n",
    "                count_by_assignee_424[c] = counts[assignee]\n",
    "\n",
    "            elif assignee == 0:\n",
    "                count_by_assignee_424[c] = np.nan\n",
    "            else:\n",
    "                count_by_assignee_424[c] = 0\n",
    "\n",
    "            c += 1\n",
    "\n",
    "        if week % 50 == 0:\n",
    "            print(week, \"/ 521\")\n",
    "            \n",
    "    dataset[\"count_by_assignee_class\"] = count_by_assignee_424\n",
    "    return(dataset)\n"
   ]
  },
  {
   "cell_type": "code",
   "execution_count": 4,
   "id": "9ba1226e-272f-4595-a68d-53900733a29d",
   "metadata": {},
   "outputs": [],
   "source": [
    "df_2class = get_patentclass(df_2class, df_514_all)"
   ]
  },
  {
   "cell_type": "markdown",
   "id": "ac471fc4-56b1-4263-a6aa-a4aaa8421884",
   "metadata": {},
   "source": [
    "### 5.4 Number of patents in a technology field of interest issued by an assignee (in class 424)"
   ]
  },
  {
   "cell_type": "code",
   "execution_count": 2,
   "id": "a2e159af-a80d-4b21-ab65-fb2c6bcd3b4a",
   "metadata": {},
   "outputs": [],
   "source": [
    "df_2class[\"counts_by_assignee_other\"] = df_2class[\"count_by_assignee_all\"] - df_2class[\"count_by_assignee_class\"]"
   ]
  },
  {
   "cell_type": "markdown",
   "id": "9fcbf312-6b95-487d-aa7b-e9685c7c1a42",
   "metadata": {},
   "source": [
    "### 5.5 Average number of forward citations of patents issued by assignee"
   ]
  },
  {
   "cell_type": "code",
   "execution_count": 93,
   "id": "6cec1d8d-f216-4b60-ad41-7b7df8e66993",
   "metadata": {},
   "outputs": [],
   "source": [
    "def get_numcitationsall(dataset):\n",
    "    week_delta = datetime.timedelta(days=7)\n",
    "    inl_by_assignee_all = np.zeros(len(dataset))\n",
    "    cap = date.fromisocalendar(1990, 1,1)\n",
    "\n",
    "    c = 0 #index of each patent (up to len(df_424))\n",
    "\n",
    "    for week in range(523):\n",
    "\n",
    "        df_cap = df.loc[df[\"issuedate\"] < cap]\n",
    "        counts = df_cap.groupby(\"assignee\")[\"n_fcites\"].mean()\n",
    "\n",
    "        df_week = dataset.loc[dataset[\"issuedate\"] < cap].iloc[c:]\n",
    "\n",
    "        for assignee in df_week[\"assignee\"]:\n",
    "\n",
    "            if (assignee in counts) & (assignee != 0):             \n",
    "                inl_by_assignee_all[c] = counts[assignee]\n",
    "\n",
    "            elif assignee == 0:\n",
    "                inl_by_assignee_all[c] = np.nan\n",
    "            else:\n",
    "                inl_by_assignee_all[c] = 0\n",
    "\n",
    "            c += 1\n",
    "\n",
    "        if week % 50 == 0:\n",
    "            print(week, \"/ 521\")\n",
    "\n",
    "        cap += week_delta\n",
    "    \n",
    "    dataset[\"inl_by_assignee_all\"] = inl_by_assignee_all\n",
    "            \n",
    "    notify.send('Inl by Assignee ') \n",
    "    return(dataset)"
   ]
  },
  {
   "cell_type": "code",
   "execution_count": 5,
   "id": "00c3f14c-f234-48d5-9209-f093e860e8fe",
   "metadata": {},
   "outputs": [],
   "source": [
    "df_2class = get_numcitationsall(df_2class)"
   ]
  },
  {
   "cell_type": "markdown",
   "id": "b1212404-53d5-4442-890f-66c01c203466",
   "metadata": {},
   "source": [
    "### Average number of forward citations of patents issued within the field (class 424) by assignee"
   ]
  },
  {
   "cell_type": "code",
   "execution_count": 98,
   "id": "8de0e9db-804e-44d8-861f-02e2aa2cd8da",
   "metadata": {},
   "outputs": [],
   "source": [
    "def get_inlbyclass(dataset, dataset_all):\n",
    "    c = 0\n",
    "    week_delta = datetime.timedelta(days=7)\n",
    "    inl_by_assignee_424 = []\n",
    "    cap = date.fromisocalendar(1990, 1,1)\n",
    "    for week in range(523):\n",
    "\n",
    "        df_cap = dataset_all.loc[dataset_all[\"issuedate\"] < cap]\n",
    "        df_week = dataset.loc[dataset[\"issuedate\"] < cap].iloc[c:]\n",
    "\n",
    "        counts = df_cap.groupby(\"assignee\")[\"n_fcites\"].mean()\n",
    "\n",
    "        for assignee in df_week[\"assignee\"]:\n",
    "\n",
    "            if (assignee in counts) & (assignee != 0):\n",
    "                inl_by_assignee_424.append(counts[assignee])\n",
    "            elif assignee == 0:\n",
    "                inl_by_assignee_424.append(np.nan)         \n",
    "            else:\n",
    "                inl_by_assignee_424.append(0)\n",
    "\n",
    "            c += 1\n",
    "\n",
    "        if week % 50 == 0:\n",
    "            print(week, \"/ 521\")\n",
    "    #         break\n",
    "        cap += week_delta\n",
    "        \n",
    "    dataset[\"inl_by_assignee_424\"] = inl_by_assignee_424\n",
    "    return(dataset)"
   ]
  },
  {
   "cell_type": "code",
   "execution_count": 6,
   "id": "f4a98fd8-9aa8-46aa-90e3-2097f86e050d",
   "metadata": {},
   "outputs": [],
   "source": [
    "df_2class = get_inlbyclass(df_2class, df_514_all)"
   ]
  },
  {
   "cell_type": "markdown",
   "id": "49a3901b-6a25-42bd-a2d1-3ea7140d92c2",
   "metadata": {},
   "source": [
    "### Average number of forward citations of patents issued within other fields by assignee"
   ]
  },
  {
   "cell_type": "code",
   "execution_count": 101,
   "id": "6ab57b16-1e95-49e4-8d33-4bac1572980a",
   "metadata": {},
   "outputs": [],
   "source": [
    "def get_inlother(dataset, pclass):\n",
    "    \n",
    "    df_other  =  df.loc[((df[\"class\"].values != str(pclass)) \\\n",
    "                    | (df[\"class\"].values != int(pclass))) \\\n",
    "                   & (df[\"issuedate\"] > date(1990, 1,1) )\\\n",
    "                   & (df[\"issuedate\"] < date(2010,1,1))]\n",
    "\n",
    "    df_other_all  =  df.loc[((df[\"class\"].values != str(pclass)) \\\n",
    "                    & (df[\"class\"].values != int(pclass)))]\n",
    "\n",
    "    c = 0\n",
    "    week_delta = datetime.timedelta(days=7)\n",
    "    inl_by_assignee_other = []\n",
    "    cap = date.fromisocalendar(1990, 1,1)\n",
    "    for week in range(523):\n",
    "\n",
    "        df_cap = df_other_all.loc[df_other_all[\"issuedate\"] < cap]\n",
    "        df_week = dataset.loc[dataset[\"issuedate\"] < cap].iloc[c:]\n",
    "\n",
    "        counts = df_cap.groupby(\"assignee\")[\"n_fcites\"].mean()\n",
    "\n",
    "        for assignee in df_week[\"assignee\"]:\n",
    "\n",
    "            if (assignee in counts) & (assignee != 0):\n",
    "                inl_by_assignee_other.append(counts[assignee])\n",
    "            elif assignee == 0:\n",
    "                inl_by_assignee_other.append(np.nan)         \n",
    "            else:\n",
    "                inl_by_assignee_other.append(0)\n",
    "\n",
    "            c += 1\n",
    "\n",
    "        if week % 50 == 0:\n",
    "            print(week, \"/ 521\")\n",
    "    #         break\n",
    "        cap += week_delta\n",
    "        \n",
    "    dataset[\"inl_by_assignee_other\"] = inl_by_assignee_other\n",
    "    return(dataset)"
   ]
  },
  {
   "cell_type": "code",
   "execution_count": 7,
   "id": "de183890-e956-44a7-83c3-cfae6025b5cc",
   "metadata": {},
   "outputs": [],
   "source": [
    "df_2class = get_inlother(df_2class, 514)"
   ]
  }
 ],
 "metadata": {
  "kernelspec": {
   "display_name": "Python 3",
   "language": "python",
   "name": "python3"
  },
  "language_info": {
   "codemirror_mode": {
    "name": "ipython",
    "version": 3
   },
   "file_extension": ".py",
   "mimetype": "text/x-python",
   "name": "python",
   "nbconvert_exporter": "python",
   "pygments_lexer": "ipython3",
   "version": "3.8.8"
  }
 },
 "nbformat": 4,
 "nbformat_minor": 5
}
